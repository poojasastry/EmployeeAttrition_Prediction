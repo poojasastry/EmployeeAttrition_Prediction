{
 "cells": [
  {
   "cell_type": "markdown",
   "metadata": {},
   "source": [
    "# Big Data Final Project\n",
    "\n",
    "#### _Team Members: Pooja Sastry (819907953), Sindhuri Punyamurthula (820923656)_"
   ]
  },
  {
   "cell_type": "markdown",
   "metadata": {},
   "source": [
    "### Goal: \n",
    "To predict employee attrition in a company using their real-time dataset. This is a binary classification problem of predicting if an employee will leave a company or not, based on several attributes. \n",
    "### Dataset:\n",
    "The human resource data from the Kaggle repository has been used for learning the models: https://www.kaggle.com/pavansubhasht/ibm-hr-analytics-attrition-dataset/data. This dataset has 34 features and a target label 'Attrition'. Some of the important features are: Employee_Age, Years_Of_Service, Gender,Distance_From_Home, Job_Level, Current_Salary, Performance_Rating,BusinessTravel,etc. We renamed the dataset to _AttritionData.csv_ and it is located in the same folder as our project notebook.\n",
    "### Kernel:\n",
    "This notebook runs on _Apache Toree - Scala_ kernel."
   ]
  },
  {
   "cell_type": "markdown",
   "metadata": {},
   "source": [
    "## _Code:_"
   ]
  },
  {
   "cell_type": "markdown",
   "metadata": {},
   "source": [
    "### Import Libraries"
   ]
  },
  {
   "cell_type": "code",
   "execution_count": 1,
   "metadata": {
    "collapsed": true
   },
   "outputs": [],
   "source": [
    "import java.io._\n",
    "import scala.io.Source\n",
    "import scala.collection.immutable\n",
    "import org.apache.spark.sql.types.{StructField, StructType, StringType, DoubleType, IntegerType}\n",
    "import org.apache.spark.ml.feature.RFormula\n",
    "import org.apache.spark.sql.functions._\n",
    "import org.apache.spark.sql.SQLContext\n",
    "import org.apache.spark.{SparkConf, SparkContext}"
   ]
  },
  {
   "cell_type": "markdown",
   "metadata": {},
   "source": [
    "## 1. Load the Data"
   ]
  },
  {
   "cell_type": "markdown",
   "metadata": {},
   "source": [
    "### 1.1. Define the schema "
   ]
  },
  {
   "cell_type": "code",
   "execution_count": 2,
   "metadata": {
    "collapsed": true
   },
   "outputs": [],
   "source": [
    "val emp_schema = new StructType(Array(\n",
    "    new StructField(\"Age\", IntegerType, true),\n",
    "    new StructField(\"Attrition\", StringType, true),\n",
    "    new StructField(\"BusinessTravel\", StringType, true),\n",
    "    new StructField(\"DailyRate\", IntegerType, true),\n",
    "    new StructField(\"Department\", StringType, true),\n",
    "    new StructField(\"DistanceFromHome\", IntegerType, true),\n",
    "    new StructField(\"Education\", IntegerType, true),\n",
    "    new StructField(\"EducationField\", StringType, true),\n",
    "    new StructField(\"EmployeeCount\", IntegerType, true),\n",
    "    new StructField(\"EmployeeNumber\", IntegerType, true),\n",
    "    new StructField(\"EnvironmentSatisfaction\", IntegerType, true),\n",
    "    new StructField(\"Gender\", StringType, true),\n",
    "    new StructField(\"HourlyRate\", IntegerType, true),\n",
    "    new StructField(\"JobInvolvement\", IntegerType, true),\n",
    "    new StructField(\"JobLevel\", IntegerType, true),\n",
    "    new StructField(\"JobRole\", StringType, true),\n",
    "    new StructField(\"JobSatisfaction\", IntegerType, true),\n",
    "    new StructField(\"MaritalStatus\", StringType, true),\n",
    "    new StructField(\"MonthlyIncome\", IntegerType, true),\n",
    "    new StructField(\"MonthlyRate\", IntegerType, true),\n",
    "    new StructField(\"NumCompaniesWorked\", IntegerType, true),\n",
    "    new StructField(\"Over18\", StringType, true),\n",
    "    new StructField(\"OverTime\", StringType, true),\n",
    "    new StructField(\"PercentSalaryHike\", IntegerType, true),    \n",
    "    new StructField(\"PerformanceRating\", IntegerType, true),\n",
    "    new StructField(\"RelationshipSatisfaction\", IntegerType, true),\n",
    "    new StructField(\"StandardHours\", IntegerType, true),\n",
    "    new StructField(\"StockOptionLevel\", IntegerType, true),\n",
    "    new StructField(\"TotalWorkingYears\", IntegerType, true),\n",
    "    new StructField(\"TrainingTimesLastYear\", IntegerType, true),\n",
    "    new StructField(\"WorkLifeBalance\", IntegerType, true),\n",
    "    new StructField(\"YearsAtCompany\", IntegerType, true),\n",
    "    new StructField(\"YearsInCurrentRole\", IntegerType, true),\n",
    "    new StructField(\"YearsSinceLastPromotion\", IntegerType, true),\n",
    "    new StructField(\"YearsWithCurrManager\", IntegerType, true)))"
   ]
  },
  {
   "cell_type": "code",
   "execution_count": 3,
   "metadata": {
    "collapsed": true
   },
   "outputs": [],
   "source": [
    "val attritionDf = spark.read.format(\"csv\").option(\"header\", true).schema(emp_schema).load(\"./AttritionData.csv\")"
   ]
  },
  {
   "cell_type": "code",
   "execution_count": 4,
   "metadata": {},
   "outputs": [
    {
     "name": "stdout",
     "output_type": "stream",
     "text": [
      "+---+---------+-----------------+---------+--------------------+----------------+---------+--------------+-------------+--------------+-----------------------+------+----------+--------------+--------+--------------------+---------------+-------------+-------------+-----------+------------------+------+--------+-----------------+-----------------+------------------------+-------------+----------------+-----------------+---------------------+---------------+--------------+------------------+-----------------------+--------------------+\n",
      "|Age|Attrition|   BusinessTravel|DailyRate|          Department|DistanceFromHome|Education|EducationField|EmployeeCount|EmployeeNumber|EnvironmentSatisfaction|Gender|HourlyRate|JobInvolvement|JobLevel|             JobRole|JobSatisfaction|MaritalStatus|MonthlyIncome|MonthlyRate|NumCompaniesWorked|Over18|OverTime|PercentSalaryHike|PerformanceRating|RelationshipSatisfaction|StandardHours|StockOptionLevel|TotalWorkingYears|TrainingTimesLastYear|WorkLifeBalance|YearsAtCompany|YearsInCurrentRole|YearsSinceLastPromotion|YearsWithCurrManager|\n",
      "+---+---------+-----------------+---------+--------------------+----------------+---------+--------------+-------------+--------------+-----------------------+------+----------+--------------+--------+--------------------+---------------+-------------+-------------+-----------+------------------+------+--------+-----------------+-----------------+------------------------+-------------+----------------+-----------------+---------------------+---------------+--------------+------------------+-----------------------+--------------------+\n",
      "| 41|      Yes|    Travel_Rarely|     1102|               Sales|               1|        2| Life Sciences|            1|             1|                      2|Female|        94|             3|       2|     Sales Executive|              4|       Single|         5993|      19479|                 8|     Y|     Yes|               11|                3|                       1|           80|               0|                8|                    0|              1|             6|                 4|                      0|                   5|\n",
      "| 49|       No|Travel_Frequently|      279|Research & Develo...|               8|        1| Life Sciences|            1|             2|                      3|  Male|        61|             2|       2|  Research Scientist|              2|      Married|         5130|      24907|                 1|     Y|      No|               23|                4|                       4|           80|               1|               10|                    3|              3|            10|                 7|                      1|                   7|\n",
      "| 37|      Yes|    Travel_Rarely|     1373|Research & Develo...|               2|        2|         Other|            1|             4|                      4|  Male|        92|             2|       1|Laboratory Techni...|              3|       Single|         2090|       2396|                 6|     Y|     Yes|               15|                3|                       2|           80|               0|                7|                    3|              3|             0|                 0|                      0|                   0|\n",
      "| 33|       No|Travel_Frequently|     1392|Research & Develo...|               3|        4| Life Sciences|            1|             5|                      4|Female|        56|             3|       1|  Research Scientist|              3|      Married|         2909|      23159|                 1|     Y|     Yes|               11|                3|                       3|           80|               0|                8|                    3|              3|             8|                 7|                      3|                   0|\n",
      "| 27|       No|    Travel_Rarely|      591|Research & Develo...|               2|        1|       Medical|            1|             7|                      1|  Male|        40|             3|       1|Laboratory Techni...|              2|      Married|         3468|      16632|                 9|     Y|      No|               12|                3|                       4|           80|               1|                6|                    3|              3|             2|                 2|                      2|                   2|\n",
      "| 32|       No|Travel_Frequently|     1005|Research & Develo...|               2|        2| Life Sciences|            1|             8|                      4|  Male|        79|             3|       1|Laboratory Techni...|              4|       Single|         3068|      11864|                 0|     Y|      No|               13|                3|                       3|           80|               0|                8|                    2|              2|             7|                 7|                      3|                   6|\n",
      "| 59|       No|    Travel_Rarely|     1324|Research & Develo...|               3|        3|       Medical|            1|            10|                      3|Female|        81|             4|       1|Laboratory Techni...|              1|      Married|         2670|       9964|                 4|     Y|     Yes|               20|                4|                       1|           80|               3|               12|                    3|              2|             1|                 0|                      0|                   0|\n",
      "| 30|       No|    Travel_Rarely|     1358|Research & Develo...|              24|        1| Life Sciences|            1|            11|                      4|  Male|        67|             3|       1|Laboratory Techni...|              3|     Divorced|         2693|      13335|                 1|     Y|      No|               22|                4|                       2|           80|               1|                1|                    2|              3|             1|                 0|                      0|                   0|\n",
      "| 38|       No|Travel_Frequently|      216|Research & Develo...|              23|        3| Life Sciences|            1|            12|                      4|  Male|        44|             2|       3|Manufacturing Dir...|              3|       Single|         9526|       8787|                 0|     Y|      No|               21|                4|                       2|           80|               0|               10|                    2|              3|             9|                 7|                      1|                   8|\n",
      "| 36|       No|    Travel_Rarely|     1299|Research & Develo...|              27|        3|       Medical|            1|            13|                      3|  Male|        94|             3|       2|Healthcare Repres...|              3|      Married|         5237|      16577|                 6|     Y|      No|               13|                3|                       2|           80|               2|               17|                    3|              2|             7|                 7|                      7|                   7|\n",
      "| 35|       No|    Travel_Rarely|      809|Research & Develo...|              16|        3|       Medical|            1|            14|                      1|  Male|        84|             4|       1|Laboratory Techni...|              2|      Married|         2426|      16479|                 0|     Y|      No|               13|                3|                       3|           80|               1|                6|                    5|              3|             5|                 4|                      0|                   3|\n",
      "| 29|       No|    Travel_Rarely|      153|Research & Develo...|              15|        2| Life Sciences|            1|            15|                      4|Female|        49|             2|       2|Laboratory Techni...|              3|       Single|         4193|      12682|                 0|     Y|     Yes|               12|                3|                       4|           80|               0|               10|                    3|              3|             9|                 5|                      0|                   8|\n",
      "| 31|       No|    Travel_Rarely|      670|Research & Develo...|              26|        1| Life Sciences|            1|            16|                      1|  Male|        31|             3|       1|  Research Scientist|              3|     Divorced|         2911|      15170|                 1|     Y|      No|               17|                3|                       4|           80|               1|                5|                    1|              2|             5|                 2|                      4|                   3|\n",
      "| 34|       No|    Travel_Rarely|     1346|Research & Develo...|              19|        2|       Medical|            1|            18|                      2|  Male|        93|             3|       1|Laboratory Techni...|              4|     Divorced|         2661|       8758|                 0|     Y|      No|               11|                3|                       3|           80|               1|                3|                    2|              3|             2|                 2|                      1|                   2|\n",
      "| 28|      Yes|    Travel_Rarely|      103|Research & Develo...|              24|        3| Life Sciences|            1|            19|                      3|  Male|        50|             2|       1|Laboratory Techni...|              3|       Single|         2028|      12947|                 5|     Y|     Yes|               14|                3|                       2|           80|               0|                6|                    4|              3|             4|                 2|                      0|                   3|\n",
      "| 29|       No|    Travel_Rarely|     1389|Research & Develo...|              21|        4| Life Sciences|            1|            20|                      2|Female|        51|             4|       3|Manufacturing Dir...|              1|     Divorced|         9980|      10195|                 1|     Y|      No|               11|                3|                       3|           80|               1|               10|                    1|              3|            10|                 9|                      8|                   8|\n",
      "| 32|       No|    Travel_Rarely|      334|Research & Develo...|               5|        2| Life Sciences|            1|            21|                      1|  Male|        80|             4|       1|  Research Scientist|              2|     Divorced|         3298|      15053|                 0|     Y|     Yes|               12|                3|                       4|           80|               2|                7|                    5|              2|             6|                 2|                      0|                   5|\n",
      "| 22|       No|       Non-Travel|     1123|Research & Develo...|              16|        2|       Medical|            1|            22|                      4|  Male|        96|             4|       1|Laboratory Techni...|              4|     Divorced|         2935|       7324|                 1|     Y|     Yes|               13|                3|                       2|           80|               2|                1|                    2|              2|             1|                 0|                      0|                   0|\n",
      "| 53|       No|    Travel_Rarely|     1219|               Sales|               2|        4| Life Sciences|            1|            23|                      1|Female|        78|             2|       4|             Manager|              4|      Married|        15427|      22021|                 2|     Y|      No|               16|                3|                       3|           80|               0|               31|                    3|              3|            25|                 8|                      3|                   7|\n",
      "| 38|       No|    Travel_Rarely|      371|Research & Develo...|               2|        3| Life Sciences|            1|            24|                      4|  Male|        45|             3|       1|  Research Scientist|              4|       Single|         3944|       4306|                 5|     Y|     Yes|               11|                3|                       3|           80|               0|                6|                    3|              3|             3|                 2|                      1|                   2|\n",
      "+---+---------+-----------------+---------+--------------------+----------------+---------+--------------+-------------+--------------+-----------------------+------+----------+--------------+--------+--------------------+---------------+-------------+-------------+-----------+------------------+------+--------+-----------------+-----------------+------------------------+-------------+----------------+-----------------+---------------------+---------------+--------------+------------------+-----------------------+--------------------+\n",
      "only showing top 20 rows\n",
      "\n"
     ]
    }
   ],
   "source": [
    "attritionDf.na.drop()\n",
    "attritionDf.show"
   ]
  },
  {
   "cell_type": "code",
   "execution_count": 5,
   "metadata": {
    "scrolled": true
   },
   "outputs": [
    {
     "name": "stdout",
     "output_type": "stream",
     "text": [
      "root\n",
      " |-- Age: integer (nullable = true)\n",
      " |-- Attrition: string (nullable = true)\n",
      " |-- BusinessTravel: string (nullable = true)\n",
      " |-- DailyRate: integer (nullable = true)\n",
      " |-- Department: string (nullable = true)\n",
      " |-- DistanceFromHome: integer (nullable = true)\n",
      " |-- Education: integer (nullable = true)\n",
      " |-- EducationField: string (nullable = true)\n",
      " |-- EmployeeCount: integer (nullable = true)\n",
      " |-- EmployeeNumber: integer (nullable = true)\n",
      " |-- EnvironmentSatisfaction: integer (nullable = true)\n",
      " |-- Gender: string (nullable = true)\n",
      " |-- HourlyRate: integer (nullable = true)\n",
      " |-- JobInvolvement: integer (nullable = true)\n",
      " |-- JobLevel: integer (nullable = true)\n",
      " |-- JobRole: string (nullable = true)\n",
      " |-- JobSatisfaction: integer (nullable = true)\n",
      " |-- MaritalStatus: string (nullable = true)\n",
      " |-- MonthlyIncome: integer (nullable = true)\n",
      " |-- MonthlyRate: integer (nullable = true)\n",
      " |-- NumCompaniesWorked: integer (nullable = true)\n",
      " |-- Over18: string (nullable = true)\n",
      " |-- OverTime: string (nullable = true)\n",
      " |-- PercentSalaryHike: integer (nullable = true)\n",
      " |-- PerformanceRating: integer (nullable = true)\n",
      " |-- RelationshipSatisfaction: integer (nullable = true)\n",
      " |-- StandardHours: integer (nullable = true)\n",
      " |-- StockOptionLevel: integer (nullable = true)\n",
      " |-- TotalWorkingYears: integer (nullable = true)\n",
      " |-- TrainingTimesLastYear: integer (nullable = true)\n",
      " |-- WorkLifeBalance: integer (nullable = true)\n",
      " |-- YearsAtCompany: integer (nullable = true)\n",
      " |-- YearsInCurrentRole: integer (nullable = true)\n",
      " |-- YearsSinceLastPromotion: integer (nullable = true)\n",
      " |-- YearsWithCurrManager: integer (nullable = true)\n",
      "\n"
     ]
    }
   ],
   "source": [
    "attritionDf.printSchema()"
   ]
  },
  {
   "cell_type": "markdown",
   "metadata": {},
   "source": [
    "### 1.2. Extract, Transform and Select features using StringIndexer and VectorAssembler"
   ]
  },
  {
   "cell_type": "code",
   "execution_count": 6,
   "metadata": {
    "collapsed": true
   },
   "outputs": [],
   "source": [
    "import org.apache.spark.ml.feature.StringIndexer\n",
    "import org.apache.spark.ml.feature.VectorAssembler"
   ]
  },
  {
   "cell_type": "code",
   "execution_count": 7,
   "metadata": {
    "collapsed": true
   },
   "outputs": [],
   "source": [
    "val Attrition_LabelIndexer = new StringIndexer().setInputCol(\"Attrition\").setOutputCol(\"label\")\n",
    "val BusinessTravel_LabelIndexer = new StringIndexer().setInputCol(\"BusinessTravel\").setOutputCol(\"BusinessTravelIndexed\")\n",
    "val Department_LabelIndexer = new StringIndexer().setInputCol(\"Department\").setOutputCol(\"DepartmentIndexed\")\n",
    "val EducationField_LabelIndexer = new StringIndexer().setInputCol(\"EducationField\").setOutputCol(\"EducationFieldIndexed\")\n",
    "val Gender_LabelIndexer = new StringIndexer().setInputCol(\"Gender\").setOutputCol(\"GenderIndexed\")\n",
    "val JobRole_LabelIndexer = new StringIndexer().setInputCol(\"JobRole\").setOutputCol(\"JobRoleIndexed\")\n",
    "val MaritalStatus_LabelIndexer = new StringIndexer().setInputCol(\"MaritalStatus\").setOutputCol(\"MaritalStatusIndexed\")\n",
    "val Over18_LabelIndexer = new StringIndexer().setInputCol(\"Over18\").setOutputCol(\"Over18Indexed\")\n",
    "val OverTime_LabelIndexer = new StringIndexer().setInputCol(\"OverTime\").setOutputCol(\"OverTimeIndexed\")"
   ]
  },
  {
   "cell_type": "code",
   "execution_count": 8,
   "metadata": {
    "collapsed": true
   },
   "outputs": [],
   "source": [
    "val Attrition_IndexedDF = Attrition_LabelIndexer.fit(attritionDf).transform(attritionDf)\n",
    "val BusinessTravel_IndexedDF = BusinessTravel_LabelIndexer.fit(Attrition_IndexedDF).transform(Attrition_IndexedDF)\n",
    "val Department_IndexedDF = Department_LabelIndexer.fit(BusinessTravel_IndexedDF).transform(BusinessTravel_IndexedDF)\n",
    "val EducationField_IndexedDF = EducationField_LabelIndexer.fit(Department_IndexedDF).transform(Department_IndexedDF)\n",
    "val Gender_IndexedDF = Gender_LabelIndexer.fit(EducationField_IndexedDF).transform(EducationField_IndexedDF)\n",
    "val JobRole_IndexedDF = JobRole_LabelIndexer.fit(Gender_IndexedDF).transform(Gender_IndexedDF)\n",
    "val MaritalStatus_IndexedDF = MaritalStatus_LabelIndexer.fit(JobRole_IndexedDF).transform(JobRole_IndexedDF)\n",
    "val Over18_IndexedDF = Over18_LabelIndexer.fit(MaritalStatus_IndexedDF).transform(MaritalStatus_IndexedDF)\n",
    "val OverTime_IndexedDF = OverTime_LabelIndexer.fit(Over18_IndexedDF).transform(Over18_IndexedDF)"
   ]
  },
  {
   "cell_type": "code",
   "execution_count": 9,
   "metadata": {},
   "outputs": [
    {
     "name": "stdout",
     "output_type": "stream",
     "text": [
      "+---+---------+-----------------+---------+--------------------+----------------+---------+--------------+-------------+--------------+-----------------------+------+----------+--------------+--------+--------------------+---------------+-------------+-------------+-----------+------------------+------+--------+-----------------+-----------------+------------------------+-------------+----------------+-----------------+---------------------+---------------+--------------+------------------+-----------------------+--------------------+-----+---------------------+-----------------+---------------------+-------------+--------------+--------------------+-------------+---------------+--------------------+\n",
      "|Age|Attrition|   BusinessTravel|DailyRate|          Department|DistanceFromHome|Education|EducationField|EmployeeCount|EmployeeNumber|EnvironmentSatisfaction|Gender|HourlyRate|JobInvolvement|JobLevel|             JobRole|JobSatisfaction|MaritalStatus|MonthlyIncome|MonthlyRate|NumCompaniesWorked|Over18|OverTime|PercentSalaryHike|PerformanceRating|RelationshipSatisfaction|StandardHours|StockOptionLevel|TotalWorkingYears|TrainingTimesLastYear|WorkLifeBalance|YearsAtCompany|YearsInCurrentRole|YearsSinceLastPromotion|YearsWithCurrManager|label|BusinessTravelIndexed|DepartmentIndexed|EducationFieldIndexed|GenderIndexed|JobRoleIndexed|MaritalStatusIndexed|Over18Indexed|OverTimeIndexed|            features|\n",
      "+---+---------+-----------------+---------+--------------------+----------------+---------+--------------+-------------+--------------+-----------------------+------+----------+--------------+--------+--------------------+---------------+-------------+-------------+-----------+------------------+------+--------+-----------------+-----------------+------------------------+-------------+----------------+-----------------+---------------------+---------------+--------------+------------------+-----------------------+--------------------+-----+---------------------+-----------------+---------------------+-------------+--------------+--------------------+-------------+---------------+--------------------+\n",
      "| 41|      Yes|    Travel_Rarely|     1102|               Sales|               1|        2| Life Sciences|            1|             1|                      2|Female|        94|             3|       2|     Sales Executive|              4|       Single|         5993|      19479|                 8|     Y|     Yes|               11|                3|                       1|           80|               0|                8|                    0|              1|             6|                 4|                      0|                   5|  1.0|                  0.0|              1.0|                  0.0|          1.0|           0.0|                 1.0|          0.0|            1.0|[0.0,1.0,0.0,1.0,...|\n",
      "| 49|       No|Travel_Frequently|      279|Research & Develo...|               8|        1| Life Sciences|            1|             2|                      3|  Male|        61|             2|       2|  Research Scientist|              2|      Married|         5130|      24907|                 1|     Y|      No|               23|                4|                       4|           80|               1|               10|                    3|              3|            10|                 7|                      1|                   7|  0.0|                  1.0|              0.0|                  0.0|          0.0|           1.0|                 0.0|          0.0|            0.0|[1.0,0.0,0.0,0.0,...|\n",
      "| 37|      Yes|    Travel_Rarely|     1373|Research & Develo...|               2|        2|         Other|            1|             4|                      4|  Male|        92|             2|       1|Laboratory Techni...|              3|       Single|         2090|       2396|                 6|     Y|     Yes|               15|                3|                       2|           80|               0|                7|                    3|              3|             0|                 0|                      0|                   0|  1.0|                  0.0|              0.0|                  4.0|          0.0|           2.0|                 1.0|          0.0|            1.0|[0.0,0.0,4.0,0.0,...|\n",
      "| 33|       No|Travel_Frequently|     1392|Research & Develo...|               3|        4| Life Sciences|            1|             5|                      4|Female|        56|             3|       1|  Research Scientist|              3|      Married|         2909|      23159|                 1|     Y|     Yes|               11|                3|                       3|           80|               0|                8|                    3|              3|             8|                 7|                      3|                   0|  0.0|                  1.0|              0.0|                  0.0|          1.0|           1.0|                 0.0|          0.0|            1.0|[1.0,0.0,0.0,1.0,...|\n",
      "| 27|       No|    Travel_Rarely|      591|Research & Develo...|               2|        1|       Medical|            1|             7|                      1|  Male|        40|             3|       1|Laboratory Techni...|              2|      Married|         3468|      16632|                 9|     Y|      No|               12|                3|                       4|           80|               1|                6|                    3|              3|             2|                 2|                      2|                   2|  0.0|                  0.0|              0.0|                  1.0|          0.0|           2.0|                 0.0|          0.0|            0.0|[0.0,0.0,1.0,0.0,...|\n",
      "| 32|       No|Travel_Frequently|     1005|Research & Develo...|               2|        2| Life Sciences|            1|             8|                      4|  Male|        79|             3|       1|Laboratory Techni...|              4|       Single|         3068|      11864|                 0|     Y|      No|               13|                3|                       3|           80|               0|                8|                    2|              2|             7|                 7|                      3|                   6|  0.0|                  1.0|              0.0|                  0.0|          0.0|           2.0|                 1.0|          0.0|            0.0|[1.0,0.0,0.0,0.0,...|\n",
      "| 59|       No|    Travel_Rarely|     1324|Research & Develo...|               3|        3|       Medical|            1|            10|                      3|Female|        81|             4|       1|Laboratory Techni...|              1|      Married|         2670|       9964|                 4|     Y|     Yes|               20|                4|                       1|           80|               3|               12|                    3|              2|             1|                 0|                      0|                   0|  0.0|                  0.0|              0.0|                  1.0|          1.0|           2.0|                 0.0|          0.0|            1.0|[0.0,0.0,1.0,1.0,...|\n",
      "| 30|       No|    Travel_Rarely|     1358|Research & Develo...|              24|        1| Life Sciences|            1|            11|                      4|  Male|        67|             3|       1|Laboratory Techni...|              3|     Divorced|         2693|      13335|                 1|     Y|      No|               22|                4|                       2|           80|               1|                1|                    2|              3|             1|                 0|                      0|                   0|  0.0|                  0.0|              0.0|                  0.0|          0.0|           2.0|                 2.0|          0.0|            0.0|[0.0,0.0,0.0,0.0,...|\n",
      "| 38|       No|Travel_Frequently|      216|Research & Develo...|              23|        3| Life Sciences|            1|            12|                      4|  Male|        44|             2|       3|Manufacturing Dir...|              3|       Single|         9526|       8787|                 0|     Y|      No|               21|                4|                       2|           80|               0|               10|                    2|              3|             9|                 7|                      1|                   8|  0.0|                  1.0|              0.0|                  0.0|          0.0|           3.0|                 1.0|          0.0|            0.0|[1.0,0.0,0.0,0.0,...|\n",
      "| 36|       No|    Travel_Rarely|     1299|Research & Develo...|              27|        3|       Medical|            1|            13|                      3|  Male|        94|             3|       2|Healthcare Repres...|              3|      Married|         5237|      16577|                 6|     Y|      No|               13|                3|                       2|           80|               2|               17|                    3|              2|             7|                 7|                      7|                   7|  0.0|                  0.0|              0.0|                  1.0|          0.0|           4.0|                 0.0|          0.0|            0.0|[0.0,0.0,1.0,0.0,...|\n",
      "| 35|       No|    Travel_Rarely|      809|Research & Develo...|              16|        3|       Medical|            1|            14|                      1|  Male|        84|             4|       1|Laboratory Techni...|              2|      Married|         2426|      16479|                 0|     Y|      No|               13|                3|                       3|           80|               1|                6|                    5|              3|             5|                 4|                      0|                   3|  0.0|                  0.0|              0.0|                  1.0|          0.0|           2.0|                 0.0|          0.0|            0.0|[0.0,0.0,1.0,0.0,...|\n",
      "| 29|       No|    Travel_Rarely|      153|Research & Develo...|              15|        2| Life Sciences|            1|            15|                      4|Female|        49|             2|       2|Laboratory Techni...|              3|       Single|         4193|      12682|                 0|     Y|     Yes|               12|                3|                       4|           80|               0|               10|                    3|              3|             9|                 5|                      0|                   8|  0.0|                  0.0|              0.0|                  0.0|          1.0|           2.0|                 1.0|          0.0|            1.0|[0.0,0.0,0.0,1.0,...|\n",
      "| 31|       No|    Travel_Rarely|      670|Research & Develo...|              26|        1| Life Sciences|            1|            16|                      1|  Male|        31|             3|       1|  Research Scientist|              3|     Divorced|         2911|      15170|                 1|     Y|      No|               17|                3|                       4|           80|               1|                5|                    1|              2|             5|                 2|                      4|                   3|  0.0|                  0.0|              0.0|                  0.0|          0.0|           1.0|                 2.0|          0.0|            0.0|[0.0,0.0,0.0,0.0,...|\n",
      "| 34|       No|    Travel_Rarely|     1346|Research & Develo...|              19|        2|       Medical|            1|            18|                      2|  Male|        93|             3|       1|Laboratory Techni...|              4|     Divorced|         2661|       8758|                 0|     Y|      No|               11|                3|                       3|           80|               1|                3|                    2|              3|             2|                 2|                      1|                   2|  0.0|                  0.0|              0.0|                  1.0|          0.0|           2.0|                 2.0|          0.0|            0.0|[0.0,0.0,1.0,0.0,...|\n",
      "| 28|      Yes|    Travel_Rarely|      103|Research & Develo...|              24|        3| Life Sciences|            1|            19|                      3|  Male|        50|             2|       1|Laboratory Techni...|              3|       Single|         2028|      12947|                 5|     Y|     Yes|               14|                3|                       2|           80|               0|                6|                    4|              3|             4|                 2|                      0|                   3|  1.0|                  0.0|              0.0|                  0.0|          0.0|           2.0|                 1.0|          0.0|            1.0|[0.0,0.0,0.0,0.0,...|\n",
      "| 29|       No|    Travel_Rarely|     1389|Research & Develo...|              21|        4| Life Sciences|            1|            20|                      2|Female|        51|             4|       3|Manufacturing Dir...|              1|     Divorced|         9980|      10195|                 1|     Y|      No|               11|                3|                       3|           80|               1|               10|                    1|              3|            10|                 9|                      8|                   8|  0.0|                  0.0|              0.0|                  0.0|          1.0|           3.0|                 2.0|          0.0|            0.0|[0.0,0.0,0.0,1.0,...|\n",
      "| 32|       No|    Travel_Rarely|      334|Research & Develo...|               5|        2| Life Sciences|            1|            21|                      1|  Male|        80|             4|       1|  Research Scientist|              2|     Divorced|         3298|      15053|                 0|     Y|     Yes|               12|                3|                       4|           80|               2|                7|                    5|              2|             6|                 2|                      0|                   5|  0.0|                  0.0|              0.0|                  0.0|          0.0|           1.0|                 2.0|          0.0|            1.0|[0.0,0.0,0.0,0.0,...|\n",
      "| 22|       No|       Non-Travel|     1123|Research & Develo...|              16|        2|       Medical|            1|            22|                      4|  Male|        96|             4|       1|Laboratory Techni...|              4|     Divorced|         2935|       7324|                 1|     Y|     Yes|               13|                3|                       2|           80|               2|                1|                    2|              2|             1|                 0|                      0|                   0|  0.0|                  2.0|              0.0|                  1.0|          0.0|           2.0|                 2.0|          0.0|            1.0|[2.0,0.0,1.0,0.0,...|\n",
      "| 53|       No|    Travel_Rarely|     1219|               Sales|               2|        4| Life Sciences|            1|            23|                      1|Female|        78|             2|       4|             Manager|              4|      Married|        15427|      22021|                 2|     Y|      No|               16|                3|                       3|           80|               0|               31|                    3|              3|            25|                 8|                      3|                   7|  0.0|                  0.0|              1.0|                  0.0|          1.0|           5.0|                 0.0|          0.0|            0.0|[0.0,1.0,0.0,1.0,...|\n",
      "| 38|       No|    Travel_Rarely|      371|Research & Develo...|               2|        3| Life Sciences|            1|            24|                      4|  Male|        45|             3|       1|  Research Scientist|              4|       Single|         3944|       4306|                 5|     Y|     Yes|               11|                3|                       3|           80|               0|                6|                    3|              3|             3|                 2|                      1|                   2|  0.0|                  0.0|              0.0|                  0.0|          0.0|           1.0|                 1.0|          0.0|            1.0|[0.0,0.0,0.0,0.0,...|\n",
      "+---+---------+-----------------+---------+--------------------+----------------+---------+--------------+-------------+--------------+-----------------------+------+----------+--------------+--------+--------------------+---------------+-------------+-------------+-----------+------------------+------+--------+-----------------+-----------------+------------------------+-------------+----------------+-----------------+---------------------+---------------+--------------+------------------+-----------------------+--------------------+-----+---------------------+-----------------+---------------------+-------------+--------------+--------------------+-------------+---------------+--------------------+\n",
      "only showing top 20 rows\n",
      "\n"
     ]
    }
   ],
   "source": [
    "val assembler = new VectorAssembler().setInputCols(Array(\"BusinessTravelIndexed\", \"DepartmentIndexed\", \"EducationFieldIndexed\", \n",
    "\"GenderIndexed\", \"JobRoleIndexed\", \"MaritalStatusIndexed\", \"Over18Indexed\", \"OverTimeIndexed\", \"Age\", \n",
    "\"DailyRate\", \"DistanceFromHome\", \"Education\",\"EmployeeCount\", \"EmployeeNumber\",\"EnvironmentSatisfaction\",\"HourlyRate\",\n",
    "\"JobInvolvement\",\"JobLevel\",\"JobSatisfaction\",\"MonthlyIncome\",\"MonthlyRate\",\"NumCompaniesWorked\",\"PercentSalaryHike\",\n",
    "\"PerformanceRating\",\"RelationshipSatisfaction\",\"StandardHours\",\"StockOptionLevel\",\"TotalWorkingYears\",\"TrainingTimesLastYear\",\n",
    "\"WorkLifeBalance\",\"YearsAtCompany\",\"YearsInCurrentRole\",\"YearsSinceLastPromotion\",\"YearsWithCurrManager\")).setOutputCol(\"features\")\n",
    "val result = assembler.transform(OverTime_IndexedDF)\n",
    "result.show"
   ]
  },
  {
   "cell_type": "code",
   "execution_count": 10,
   "metadata": {},
   "outputs": [
    {
     "name": "stdout",
     "output_type": "stream",
     "text": [
      "+-----+--------------------+---------------------+-----------------+---------------------+\n",
      "|label|            features|BusinessTravelIndexed|DepartmentIndexed|EducationFieldIndexed|\n",
      "+-----+--------------------+---------------------+-----------------+---------------------+\n",
      "|  1.0|[0.0,1.0,0.0,1.0,...|                  0.0|              1.0|                  0.0|\n",
      "|  0.0|[1.0,0.0,0.0,0.0,...|                  1.0|              0.0|                  0.0|\n",
      "+-----+--------------------+---------------------+-----------------+---------------------+\n",
      "only showing top 2 rows\n",
      "\n"
     ]
    }
   ],
   "source": [
    "result.select(\"label\",\"features\",\"BusinessTravelIndexed\",\"DepartmentIndexed\",\"EducationFieldIndexed\").show(2)"
   ]
  },
  {
   "cell_type": "markdown",
   "metadata": {},
   "source": [
    "### 1.3. Feature Correlation using Pearson's Correlation Matrix"
   ]
  },
  {
   "cell_type": "markdown",
   "metadata": {},
   "source": [
    "By plotting a correlation matrix, we can have an overview of how the features are related to one another. "
   ]
  },
  {
   "cell_type": "code",
   "execution_count": 11,
   "metadata": {
    "scrolled": true
   },
   "outputs": [
    {
     "name": "stdout",
     "output_type": "stream",
     "text": [
      "Pearson's correlation matrix:\n",
      "[1.0                    -9.345554473742944E-4  ... (34 total)\n",
      "-9.345554473742944E-4  1.0                    ...\n",
      "-0.021512719737780385  0.253736538418516      ...\n",
      "-0.03298095630330798   4.883422630625519E-4   ...\n",
      "-0.028663665240755     0.08477914511425376    ...\n",
      "0.06573146408981918    -0.03081840512586054   ...\n",
      "NaN                    NaN                    ...\n",
      "-0.016543041959464554  3.3961808998089277E-4  ...\n",
      "-0.024751434227472353  -0.007652016028022201  ...\n",
      "0.00408603392695391    -0.021958839348349083  ...\n",
      "0.024469441632343172   0.0021963708361808073  ...\n",
      "-7.5693310007276E-4    0.019636446644669635   ...\n",
      "NaN                    NaN                    ...\n",
      "0.015577822975475329   0.05766297309290677    ...\n",
      "-0.004174404869855     -0.026110442307181205  ...\n",
      "-0.026528186185597415  -0.021527658389011904  ...\n",
      "-0.039061500556181315  -0.017692783090383083  ...\n",
      "-0.019311282061786422  0.08801799142179016    ...\n",
      "0.033962151335930515   -0.006231043718765055  ...\n",
      "-0.034318945923127314  0.056572564423940236   ...\n",
      "0.014107088393484235   -0.004124018517277284  ...\n",
      "-0.020874752414058374  -0.011261207784913374  ...\n",
      "0.02937705426278166    -0.03493323941244001   ...\n",
      "0.026341134547224327   -0.02964810839364971   ...\n",
      "0.035985692634999324   0.01615360747017755    ...\n",
      "NaN                    NaN                    ...\n",
      "0.016726870591561215   -0.015585191968135754  ...\n",
      "-0.03422562156281248   -0.006601616112464905  ...\n",
      "-0.015240033390295425  -0.00854879591727488   ...\n",
      "0.011255819808943296   0.07550687314129842    ...\n",
      "0.014575008100002803   0.029752308797389798   ...\n",
      "0.011497447101210848   0.009203842363182543   ...\n",
      "0.032591152939875204   0.00839365362456902    ...\n",
      "0.02263573447697327    0.0028740251319991678  ...]\n"
     ]
    }
   ],
   "source": [
    "import org.apache.spark.ml.stat.Correlation\n",
    "import org.apache.spark.sql.Row\n",
    "val coeff1 = Correlation.corr(result, \"features\").head\n",
    "println(\"Pearson's correlation matrix:\\n\" + coeff1.toString)"
   ]
  },
  {
   "cell_type": "markdown",
   "metadata": {},
   "source": [
    "## 2. Data Analysis\n",
    "\n",
    "We found a few interesting facts when exploring the data."
   ]
  },
  {
   "cell_type": "markdown",
   "metadata": {},
   "source": [
    "### 2.1. Number of employees who left vs. stayed"
   ]
  },
  {
   "cell_type": "code",
   "execution_count": 12,
   "metadata": {},
   "outputs": [
    {
     "name": "stdout",
     "output_type": "stream",
     "text": [
      "+---------+----------------+\n",
      "|Attrition|count(Attrition)|\n",
      "+---------+----------------+\n",
      "|       No|            1233|\n",
      "|      Yes|             237|\n",
      "+---------+----------------+\n",
      "\n"
     ]
    }
   ],
   "source": [
    "var leftVsStayed=result.groupBy(\"Attrition\").agg(count(\"Attrition\"))\n",
    "leftVsStayed.show"
   ]
  },
  {
   "cell_type": "markdown",
   "metadata": {},
   "source": [
    "From the above results, we can say that approximately 16% of the employees left the company."
   ]
  },
  {
   "cell_type": "markdown",
   "metadata": {},
   "source": [
    "### 2.2. Average employee satisfaction of employees who left vs. stayed"
   ]
  },
  {
   "cell_type": "code",
   "execution_count": 13,
   "metadata": {},
   "outputs": [
    {
     "name": "stdout",
     "output_type": "stream",
     "text": [
      "+---------+--------------------+\n",
      "|Attrition|avg(JobSatisfaction)|\n",
      "+---------+--------------------+\n",
      "|       No|   2.778588807785888|\n",
      "|      Yes|  2.4683544303797467|\n",
      "+---------+--------------------+\n",
      "\n"
     ]
    }
   ],
   "source": [
    "var satisfaction=result.groupBy(\"Attrition\").agg(mean(\"JobSatisfaction\"))\n",
    "satisfaction.show"
   ]
  },
  {
   "cell_type": "markdown",
   "metadata": {},
   "source": [
    "### 2.3. Average employee satisfaction based on job role"
   ]
  },
  {
   "cell_type": "code",
   "execution_count": 14,
   "metadata": {},
   "outputs": [
    {
     "name": "stdout",
     "output_type": "stream",
     "text": [
      "+--------------------+--------------------+\n",
      "|             JobRole|avg(JobSatisfaction)|\n",
      "+--------------------+--------------------+\n",
      "|     Sales Executive|   2.754601226993865|\n",
      "|Manufacturing Dir...|   2.682758620689655|\n",
      "|Laboratory Techni...|  2.6911196911196913|\n",
      "|Sales Representative|  2.7349397590361444|\n",
      "|Healthcare Repres...|   2.786259541984733|\n",
      "|  Research Scientist|  2.7739726027397262|\n",
      "|             Manager|  2.7058823529411766|\n",
      "|   Research Director|                 2.7|\n",
      "|     Human Resources|  2.5576923076923075|\n",
      "+--------------------+--------------------+\n",
      "\n"
     ]
    }
   ],
   "source": [
    "var ProjectsSatisfaction=result.groupBy(\"JobRole\").agg(mean(\"JobSatisfaction\"))\n",
    "ProjectsSatisfaction.show"
   ]
  },
  {
   "cell_type": "markdown",
   "metadata": {},
   "source": [
    "Human Resources Employees have the least job satisfaction rate while Health Care Representatives have the  most."
   ]
  },
  {
   "cell_type": "markdown",
   "metadata": {},
   "source": [
    "## 3. Machine Learning Models\n",
    "\n",
    "The prediction of employee attrition requires a Binary Classification Model which decides the Attrition variable as 'Yes/No'. We used 6 different models : Naive Bayes, Decision Tree, LogisticRegression, Gradient Boosting, Random Forest and Linear Support Vector Classifier.\n",
    "We evaluated these models and compared the accuracy and time taken by each of them. Confusion Matrix was computed for each of the models."
   ]
  },
  {
   "cell_type": "markdown",
   "metadata": {},
   "source": [
    "### Randomly Split the data for Training and Testing"
   ]
  },
  {
   "cell_type": "code",
   "execution_count": 15,
   "metadata": {
    "collapsed": true
   },
   "outputs": [],
   "source": [
    "val Array(train, test) = result.randomSplit(Array(0.7, 0.3))"
   ]
  },
  {
   "cell_type": "markdown",
   "metadata": {},
   "source": [
    "## Model 1 : Naive Bayes"
   ]
  },
  {
   "cell_type": "code",
   "execution_count": 16,
   "metadata": {},
   "outputs": [
    {
     "name": "stdout",
     "output_type": "stream",
     "text": [
      "Time elapsed for Naive Bayes:\n",
      "1.94149036\n"
     ]
    }
   ],
   "source": [
    "import org.apache.spark.ml.classification.NaiveBayes\n",
    "val nb = new NaiveBayes().setLabelCol(\"label\").setFeaturesCol(\"features\")\n",
    "\n",
    "val startTime_nb = System.nanoTime()  \n",
    "\n",
    "val model_nb = nb.fit(train)\n",
    "\n",
    "val time_nb = (System.nanoTime() - startTime_nb) / 1e9\n",
    "\n",
    "println(\"Time elapsed for Naive Bayes:\")\n",
    "println(time_nb)"
   ]
  },
  {
   "cell_type": "code",
   "execution_count": 17,
   "metadata": {},
   "outputs": [
    {
     "name": "stdout",
     "output_type": "stream",
     "text": [
      "+---+---------+-----------------+---------+--------------------+----------------+---------+----------------+-------------+--------------+-----------------------+------+----------+--------------+--------+--------------------+---------------+-------------+-------------+-----------+------------------+------+--------+-----------------+-----------------+------------------------+-------------+----------------+-----------------+---------------------+---------------+--------------+------------------+-----------------------+--------------------+-----+---------------------+-----------------+---------------------+-------------+--------------+--------------------+-------------+---------------+--------------------+--------------------+--------------------+----------+\n",
      "|Age|Attrition|   BusinessTravel|DailyRate|          Department|DistanceFromHome|Education|  EducationField|EmployeeCount|EmployeeNumber|EnvironmentSatisfaction|Gender|HourlyRate|JobInvolvement|JobLevel|             JobRole|JobSatisfaction|MaritalStatus|MonthlyIncome|MonthlyRate|NumCompaniesWorked|Over18|OverTime|PercentSalaryHike|PerformanceRating|RelationshipSatisfaction|StandardHours|StockOptionLevel|TotalWorkingYears|TrainingTimesLastYear|WorkLifeBalance|YearsAtCompany|YearsInCurrentRole|YearsSinceLastPromotion|YearsWithCurrManager|label|BusinessTravelIndexed|DepartmentIndexed|EducationFieldIndexed|GenderIndexed|JobRoleIndexed|MaritalStatusIndexed|Over18Indexed|OverTimeIndexed|            features|       rawPrediction|         probability|prediction|\n",
      "+---+---------+-----------------+---------+--------------------+----------------+---------+----------------+-------------+--------------+-----------------------+------+----------+--------------+--------+--------------------+---------------+-------------+-------------+-----------+------------------+------+--------+-----------------+-----------------+------------------------+-------------+----------------+-----------------+---------------------+---------------+--------------+------------------+-----------------------+--------------------+-----+---------------------+-----------------+---------------------+-------------+--------------+--------------------+-------------+---------------+--------------------+--------------------+--------------------+----------+\n",
      "| 18|       No|       Non-Travel|     1124|Research & Develo...|               1|        3|   Life Sciences|            1|          1368|                      4|Female|        97|             3|       1|Laboratory Techni...|              4|       Single|         1611|      19305|                 1|     Y|      No|               15|                3|                       3|           80|               0|                0|                    5|              4|             0|                 0|                      0|                   0|  0.0|                  2.0|              0.0|                  0.0|          1.0|           2.0|                 1.0|          0.0|            0.0|[2.0,0.0,0.0,1.0,...|[-21023.264361638...|           [0.0,1.0]|       1.0|\n",
      "| 18|      Yes|Travel_Frequently|     1306|               Sales|               5|        3|       Marketing|            1|           614|                      2|  Male|        69|             3|       1|Sales Representative|              2|       Single|         1878|       8059|                 1|     Y|     Yes|               14|                3|                       4|           80|               0|                0|                    3|              3|             0|                 0|                      0|                   0|  1.0|                  1.0|              1.0|                  2.0|          0.0|           6.0|                 1.0|          0.0|            1.0|[1.0,1.0,2.0,0.0,...|[-13981.079248045...|[1.80658345566614...|       1.0|\n",
      "| 19|       No|    Travel_Rarely|      265|Research & Develo...|              25|        3|   Life Sciences|            1|          1269|                      2|Female|        57|             4|       1|  Research Scientist|              4|       Single|         2994|      21221|                 1|     Y|     Yes|               12|                3|                       4|           80|               0|                1|                    2|              3|             1|                 0|                      0|                   1|  0.0|                  0.0|              0.0|                  0.0|          1.0|           1.0|                 1.0|          0.0|            1.0|[0.0,0.0,0.0,1.0,...|[-20365.613891920...|           [0.0,1.0]|       1.0|\n",
      "| 19|      Yes|Travel_Frequently|      602|               Sales|               1|        1|Technical Degree|            1|           235|                      3|Female|       100|             1|       1|Sales Representative|              1|       Single|         2325|      20989|                 0|     Y|      No|               21|                4|                       1|           80|               0|                1|                    5|              4|             0|                 0|                      0|                   0|  1.0|                  1.0|              1.0|                  3.0|          1.0|           6.0|                 1.0|          0.0|            0.0|[1.0,1.0,3.0,1.0,...|[-17453.218083081...|           [0.0,1.0]|       1.0|\n",
      "| 19|      Yes|    Travel_Rarely|      419|               Sales|              21|        3|           Other|            1|           959|                      4|  Male|        37|             2|       1|Sales Representative|              2|       Single|         2121|       9947|                 1|     Y|     Yes|               13|                3|                       2|           80|               0|                1|                    3|              4|             1|                 0|                      0|                   0|  1.0|                  0.0|              1.0|                  4.0|          0.0|           6.0|                 1.0|          0.0|            1.0|[0.0,1.0,4.0,0.0,...|[-13276.424667530...|[1.27316292241682...|       1.0|\n",
      "| 19|      Yes|    Travel_Rarely|      489|     Human Resources|               2|        2|Technical Degree|            1|           566|                      1|  Male|        52|             2|       1|     Human Resources|              4|       Single|         2564|      18437|                 1|     Y|      No|               12|                3|                       3|           80|               0|                1|                    3|              4|             1|                 0|                      0|                   0|  1.0|                  0.0|              2.0|                  3.0|          0.0|           8.0|                 1.0|          0.0|            0.0|[0.0,2.0,3.0,0.0,...|[-16871.297992646...|           [0.0,1.0]|       1.0|\n",
      "| 20|       No|    Travel_Rarely|      805|Research & Develo...|               3|        3|   Life Sciences|            1|          1198|                      1|  Male|        87|             2|       1|Laboratory Techni...|              3|       Single|         3033|      12828|                 1|     Y|      No|               12|                3|                       1|           80|               0|                2|                    2|              2|             2|                 2|                      1|                   2|  0.0|                  0.0|              0.0|                  0.0|          0.0|           2.0|                 1.0|          0.0|            0.0|[0.0,0.0,0.0,0.0,...|[-17890.558323971...|[8.53278560705657...|       1.0|\n",
      "| 20|       No|    Travel_Rarely|     1141|               Sales|               2|        3|         Medical|            1|          1657|                      3|Female|        31|             3|       1|Sales Representative|              3|       Single|         2783|      13251|                 1|     Y|      No|               19|                3|                       1|           80|               0|                2|                    3|              3|             2|                 2|                      2|                   2|  0.0|                  0.0|              1.0|                  1.0|          1.0|           6.0|                 1.0|          0.0|            0.0|[0.0,1.0,1.0,1.0,...|[-20196.955324754...|           [0.0,1.0]|       1.0|\n",
      "| 20|      Yes|Travel_Frequently|      769|               Sales|               9|        3|       Marketing|            1|          1077|                      4|Female|        54|             3|       1|Sales Representative|              4|       Single|         2323|      17205|                 1|     Y|     Yes|               14|                3|                       2|           80|               0|                2|                    3|              3|             2|                 2|                      0|                   2|  1.0|                  1.0|              1.0|                  2.0|          1.0|           6.0|                 1.0|          0.0|            1.0|[1.0,1.0,2.0,1.0,...|[-18681.935479240...|           [0.0,1.0]|       1.0|\n",
      "| 20|      Yes|Travel_Frequently|      871|Research & Develo...|               6|        3|   Life Sciences|            1|           137|                      4|Female|        66|             2|       1|Laboratory Techni...|              4|       Single|         2926|      19783|                 1|     Y|     Yes|               18|                3|                       2|           80|               0|                1|                    5|              3|             1|                 0|                      1|                   0|  1.0|                  1.0|              0.0|                  0.0|          1.0|           2.0|                 1.0|          0.0|            1.0|[1.0,0.0,0.0,1.0,...|[-18030.964611625...|           [0.0,1.0]|       1.0|\n",
      "| 21|       No|       Non-Travel|      895|               Sales|               9|        2|         Medical|            1|           484|                      1|  Male|        39|             3|       1|Sales Representative|              4|       Single|         2610|       2851|                 1|     Y|      No|               24|                4|                       3|           80|               0|                3|                    3|              2|             3|                 2|                      2|                   2|  0.0|                  2.0|              1.0|                  1.0|          0.0|           6.0|                 1.0|          0.0|            0.0|[2.0,1.0,1.0,0.0,...|[-10587.747038436...|[1.0,8.0779593585...|       0.0|\n",
      "| 21|       No|    Travel_Rarely|      996|Research & Develo...|               3|        2|         Medical|            1|           379|                      4|  Male|       100|             2|       1|  Research Scientist|              3|       Single|         3230|      10531|                 1|     Y|      No|               17|                3|                       1|           80|               0|                3|                    4|              4|             3|                 2|                      1|                   0|  0.0|                  0.0|              0.0|                  1.0|          0.0|           1.0|                 1.0|          0.0|            0.0|[0.0,0.0,1.0,0.0,...|[-15248.557708993...|[1.06841954814518...|       1.0|\n",
      "| 21|      Yes|Travel_Frequently|      756|               Sales|               1|        1|Technical Degree|            1|           478|                      1|Female|        99|             2|       1|Sales Representative|              2|       Single|         2174|       9150|                 1|     Y|     Yes|               11|                3|                       3|           80|               0|                3|                    3|              3|             3|                 2|                      1|                   2|  1.0|                  1.0|              1.0|                  3.0|          1.0|           6.0|                 1.0|          0.0|            1.0|[1.0,1.0,3.0,1.0,...|[-12813.307495759...|[8.21824356937631...|       1.0|\n",
      "| 22|       No|    Travel_Rarely|      534|Research & Develo...|              15|        3|         Medical|            1|           144|                      2|Female|        59|             3|       1|Laboratory Techni...|              4|       Single|         2871|      23785|                 1|     Y|      No|               15|                3|                       3|           80|               0|                1|                    5|              3|             0|                 0|                      0|                   0|  0.0|                  0.0|              0.0|                  1.0|          1.0|           2.0|                 1.0|          0.0|            0.0|[0.0,0.0,1.0,1.0,...|[-18794.819921396...|           [0.0,1.0]|       1.0|\n",
      "| 22|       No|    Travel_Rarely|      604|Research & Develo...|               6|        1|         Medical|            1|           675|                      1|  Male|        69|             3|       1|  Research Scientist|              3|      Married|         2773|      12145|                 0|     Y|      No|               20|                4|                       4|           80|               0|                3|                    3|              3|             2|                 2|                      2|                   2|  0.0|                  0.0|              0.0|                  1.0|          0.0|           1.0|                 0.0|          0.0|            0.0|[0.0,0.0,1.0,0.0,...|[-14955.838369512...|[8.25221525075294...|       1.0|\n",
      "| 22|       No|    Travel_Rarely|     1230|Research & Develo...|               1|        2|   Life Sciences|            1|           872|                      4|  Male|        33|             2|       2|Manufacturing Dir...|              4|      Married|         4775|      19146|                 6|     Y|      No|               22|                4|                       1|           80|               2|                4|                    2|              1|             2|                 2|                      2|                   2|  0.0|                  0.0|              0.0|                  0.0|          0.0|           3.0|                 0.0|          0.0|            0.0|[0.0,0.0,0.0,0.0,...|[-23362.505035943...|[8.25512828585168...|       1.0|\n",
      "| 22|       No|    Travel_Rarely|     1256|Research & Develo...|              19|        1|         Medical|            1|           217|                      3|  Male|        80|             3|       1|  Research Scientist|              4|      Married|         2323|      11992|                 1|     Y|      No|               24|                4|                       1|           80|               2|                2|                    6|              3|             2|                 2|                      2|                   2|  0.0|                  0.0|              0.0|                  1.0|          0.0|           1.0|                 0.0|          0.0|            0.0|[0.0,0.0,1.0,0.0,...|[-15316.291455621...|[1.84949273026207...|       1.0|\n",
      "| 22|      Yes|Travel_Frequently|     1368|Research & Develo...|               4|        1|Technical Degree|            1|           593|                      3|  Male|        99|             2|       1|Laboratory Techni...|              3|       Single|         3894|       9129|                 5|     Y|      No|               16|                3|                       3|           80|               0|                4|                    3|              3|             2|                 2|                      1|                   2|  1.0|                  1.0|              0.0|                  3.0|          0.0|           2.0|                 1.0|          0.0|            0.0|[1.0,0.0,3.0,0.0,...|[-17371.499402822...|[1.0,2.1606443088...|       0.0|\n",
      "| 22|      Yes|    Travel_Rarely|      391|Research & Develo...|               7|        1|   Life Sciences|            1|          1878|                      4|  Male|        75|             3|       1|  Research Scientist|              2|       Single|         2472|      26092|                 1|     Y|     Yes|               23|                4|                       1|           80|               0|                1|                    2|              3|             1|                 0|                      0|                   0|  1.0|                  0.0|              0.0|                  0.0|          0.0|           1.0|                 1.0|          0.0|            1.0|[0.0,0.0,0.0,0.0,...|[-24433.471413625...|           [0.0,1.0]|       1.0|\n",
      "| 23|       No|    Travel_Rarely|      310|Research & Develo...|              10|        1|         Medical|            1|           784|                      1|  Male|        79|             4|       1|  Research Scientist|              3|       Single|         3505|      19630|                 1|     Y|      No|               18|                3|                       4|           80|               0|                2|                    3|              3|             2|                 2|                      0|                   2|  0.0|                  0.0|              0.0|                  1.0|          0.0|           1.0|                 1.0|          0.0|            0.0|[0.0,0.0,1.0,0.0,...|[-18922.821049025...|           [0.0,1.0]|       1.0|\n",
      "+---+---------+-----------------+---------+--------------------+----------------+---------+----------------+-------------+--------------+-----------------------+------+----------+--------------+--------+--------------------+---------------+-------------+-------------+-----------+------------------+------+--------+-----------------+-----------------+------------------------+-------------+----------------+-----------------+---------------------+---------------+--------------+------------------+-----------------------+--------------------+-----+---------------------+-----------------+---------------------+-------------+--------------+--------------------+-------------+---------------+--------------------+--------------------+--------------------+----------+\n",
      "only showing top 20 rows\n",
      "\n"
     ]
    }
   ],
   "source": [
    "val predictions_nb = model_nb.transform(test)\n",
    "predictions_nb.show"
   ]
  },
  {
   "cell_type": "code",
   "execution_count": 18,
   "metadata": {},
   "outputs": [
    {
     "name": "stdout",
     "output_type": "stream",
     "text": [
      "+-----+--------------------+----------+---------------------+\n",
      "|label|            features|prediction|BusinessTravelIndexed|\n",
      "+-----+--------------------+----------+---------------------+\n",
      "|  0.0|[2.0,0.0,0.0,1.0,...|       1.0|                  2.0|\n",
      "|  1.0|[1.0,1.0,2.0,0.0,...|       1.0|                  1.0|\n",
      "|  0.0|[0.0,0.0,0.0,1.0,...|       1.0|                  0.0|\n",
      "|  1.0|[1.0,1.0,3.0,1.0,...|       1.0|                  1.0|\n",
      "|  1.0|[0.0,1.0,4.0,0.0,...|       1.0|                  0.0|\n",
      "+-----+--------------------+----------+---------------------+\n",
      "only showing top 5 rows\n",
      "\n"
     ]
    }
   ],
   "source": [
    "predictions_nb.select(\"label\",\"features\",\"prediction\",\"BusinessTravelIndexed\").show(5)"
   ]
  },
  {
   "cell_type": "code",
   "execution_count": 19,
   "metadata": {
    "collapsed": true
   },
   "outputs": [],
   "source": [
    "import org.apache.spark.ml.feature.Binarizer\n",
    "val binarizer: Binarizer = new Binarizer().setInputCol(\"prediction\").setOutputCol(\"binarized_prediction\").setThreshold(0.5)\n",
    "val predictionBinary_nb = binarizer.transform(predictions_nb) "
   ]
  },
  {
   "cell_type": "code",
   "execution_count": 20,
   "metadata": {},
   "outputs": [
    {
     "name": "stdout",
     "output_type": "stream",
     "text": [
      "+-----+------+\n",
      "|label|Errors|\n",
      "+-----+------+\n",
      "|  0.0|   192|\n",
      "|  1.0|    26|\n",
      "+-----+------+\n",
      "\n"
     ]
    }
   ],
   "source": [
    "val wrongPredictions_nb = predictionBinary_nb.where(expr(\"label != prediction\"))\n",
    "val countErrors_nb = wrongPredictions_nb.groupBy(\"label\").agg(count(\"prediction\").alias(\"Errors\"))\n",
    "countErrors_nb.show"
   ]
  },
  {
   "cell_type": "code",
   "execution_count": 21,
   "metadata": {},
   "outputs": [
    {
     "name": "stdout",
     "output_type": "stream",
     "text": [
      "+-----+-------+\n",
      "|label|Correct|\n",
      "+-----+-------+\n",
      "|  0.0|    198|\n",
      "|  1.0|     45|\n",
      "+-----+-------+\n",
      "\n"
     ]
    }
   ],
   "source": [
    "val correctPredictions_nb = predictionBinary_nb.where(expr(\"label == prediction\"))\n",
    "val countCorrectPredictions_nb = correctPredictions_nb.groupBy(\"label\").agg(count(\"prediction\").alias(\"Correct\"))\n",
    "countCorrectPredictions_nb.show"
   ]
  },
  {
   "cell_type": "markdown",
   "metadata": {},
   "source": [
    "### Confusion Matrix and Accuracy (Naive Bayes)"
   ]
  },
  {
   "cell_type": "code",
   "execution_count": 22,
   "metadata": {},
   "outputs": [
    {
     "name": "stdout",
     "output_type": "stream",
     "text": [
      "Confusion matrix for Naive Bayes:\n",
      "198.0  192.0  \n",
      "26.0   45.0   \n",
      "Accuracy of Naive Bayes:\n",
      "0.527114967462039\n"
     ]
    }
   ],
   "source": [
    "import org.apache.spark.mllib.evaluation.MulticlassMetrics\n",
    "val selectMetrics_nb = predictions_nb.select(\"label\",\"prediction\")\n",
    "val rdd_nb = selectMetrics_nb.rdd.map(row => {\n",
    "      val label = row.getDouble(0)\n",
    "      val prediction = row.getDouble(1)\n",
    "      (prediction, label)\n",
    "    })\n",
    "val metrics_nb = new MulticlassMetrics(rdd_nb)\n",
    "println(\"Confusion matrix for Naive Bayes:\")\n",
    "val confusionMatrix_nb=metrics_nb.confusionMatrix\n",
    "println(confusionMatrix_nb)\n",
    "println(\"Accuracy of Naive Bayes:\")\n",
    "val accuracy_nb=metrics_nb.accuracy\n",
    "println(accuracy_nb)"
   ]
  },
  {
   "cell_type": "markdown",
   "metadata": {},
   "source": [
    "## Model 2 : Decision Tree"
   ]
  },
  {
   "cell_type": "code",
   "execution_count": 23,
   "metadata": {},
   "outputs": [
    {
     "name": "stdout",
     "output_type": "stream",
     "text": [
      "Time elapsed for Decision tree:\n",
      "2.662944262\n"
     ]
    }
   ],
   "source": [
    "import org.apache.spark.ml.regression.DecisionTreeRegressionModel\n",
    "import org.apache.spark.ml.regression.DecisionTreeRegressor\n",
    "\n",
    "val dt = new DecisionTreeRegressor().setMaxBins(100).setLabelCol(\"label\").setFeaturesCol(\"features\")\n",
    "\n",
    "val startTime_dt = System.nanoTime()\n",
    "\n",
    "val model_dt = dt.fit(train)\n",
    "\n",
    "val time_dt = (System.nanoTime() - startTime_dt) / 1e9\n",
    "\n",
    "println(\"Time elapsed for Decision tree:\")\n",
    "println(time_dt)"
   ]
  },
  {
   "cell_type": "code",
   "execution_count": 24,
   "metadata": {},
   "outputs": [
    {
     "name": "stdout",
     "output_type": "stream",
     "text": [
      "+---+---------+-----------------+---------+--------------------+----------------+---------+----------------+-------------+--------------+-----------------------+------+----------+--------------+--------+--------------------+---------------+-------------+-------------+-----------+------------------+------+--------+-----------------+-----------------+------------------------+-------------+----------------+-----------------+---------------------+---------------+--------------+------------------+-----------------------+--------------------+-----+---------------------+-----------------+---------------------+-------------+--------------+--------------------+-------------+---------------+--------------------+-------------------+\n",
      "|Age|Attrition|   BusinessTravel|DailyRate|          Department|DistanceFromHome|Education|  EducationField|EmployeeCount|EmployeeNumber|EnvironmentSatisfaction|Gender|HourlyRate|JobInvolvement|JobLevel|             JobRole|JobSatisfaction|MaritalStatus|MonthlyIncome|MonthlyRate|NumCompaniesWorked|Over18|OverTime|PercentSalaryHike|PerformanceRating|RelationshipSatisfaction|StandardHours|StockOptionLevel|TotalWorkingYears|TrainingTimesLastYear|WorkLifeBalance|YearsAtCompany|YearsInCurrentRole|YearsSinceLastPromotion|YearsWithCurrManager|label|BusinessTravelIndexed|DepartmentIndexed|EducationFieldIndexed|GenderIndexed|JobRoleIndexed|MaritalStatusIndexed|Over18Indexed|OverTimeIndexed|            features|         prediction|\n",
      "+---+---------+-----------------+---------+--------------------+----------------+---------+----------------+-------------+--------------+-----------------------+------+----------+--------------+--------+--------------------+---------------+-------------+-------------+-----------+------------------+------+--------+-----------------+-----------------+------------------------+-------------+----------------+-----------------+---------------------+---------------+--------------+------------------+-----------------------+--------------------+-----+---------------------+-----------------+---------------------+-------------+--------------+--------------------+-------------+---------------+--------------------+-------------------+\n",
      "| 18|       No|       Non-Travel|     1124|Research & Develo...|               1|        3|   Life Sciences|            1|          1368|                      4|Female|        97|             3|       1|Laboratory Techni...|              4|       Single|         1611|      19305|                 1|     Y|      No|               15|                3|                       3|           80|               0|                0|                    5|              4|             0|                 0|                      0|                   0|  0.0|                  2.0|              0.0|                  0.0|          1.0|           2.0|                 1.0|          0.0|            0.0|[2.0,0.0,0.0,1.0,...| 0.9285714285714286|\n",
      "| 18|      Yes|Travel_Frequently|     1306|               Sales|               5|        3|       Marketing|            1|           614|                      2|  Male|        69|             3|       1|Sales Representative|              2|       Single|         1878|       8059|                 1|     Y|     Yes|               14|                3|                       4|           80|               0|                0|                    3|              3|             0|                 0|                      0|                   0|  1.0|                  1.0|              1.0|                  2.0|          0.0|           6.0|                 1.0|          0.0|            1.0|[1.0,1.0,2.0,0.0,...| 0.9285714285714286|\n",
      "| 19|       No|    Travel_Rarely|      265|Research & Develo...|              25|        3|   Life Sciences|            1|          1269|                      2|Female|        57|             4|       1|  Research Scientist|              4|       Single|         2994|      21221|                 1|     Y|     Yes|               12|                3|                       4|           80|               0|                1|                    2|              3|             1|                 0|                      0|                   1|  0.0|                  0.0|              0.0|                  0.0|          1.0|           1.0|                 1.0|          0.0|            1.0|[0.0,0.0,0.0,1.0,...|                1.0|\n",
      "| 19|      Yes|Travel_Frequently|      602|               Sales|               1|        1|Technical Degree|            1|           235|                      3|Female|       100|             1|       1|Sales Representative|              1|       Single|         2325|      20989|                 0|     Y|      No|               21|                4|                       1|           80|               0|                1|                    5|              4|             0|                 0|                      0|                   0|  1.0|                  1.0|              1.0|                  3.0|          1.0|           6.0|                 1.0|          0.0|            0.0|[1.0,1.0,3.0,1.0,...|                0.0|\n",
      "| 19|      Yes|    Travel_Rarely|      419|               Sales|              21|        3|           Other|            1|           959|                      4|  Male|        37|             2|       1|Sales Representative|              2|       Single|         2121|       9947|                 1|     Y|     Yes|               13|                3|                       2|           80|               0|                1|                    3|              4|             1|                 0|                      0|                   0|  1.0|                  0.0|              1.0|                  4.0|          0.0|           6.0|                 1.0|          0.0|            1.0|[0.0,1.0,4.0,0.0,...|                1.0|\n",
      "| 19|      Yes|    Travel_Rarely|      489|     Human Resources|               2|        2|Technical Degree|            1|           566|                      1|  Male|        52|             2|       1|     Human Resources|              4|       Single|         2564|      18437|                 1|     Y|      No|               12|                3|                       3|           80|               0|                1|                    3|              4|             1|                 0|                      0|                   0|  1.0|                  0.0|              2.0|                  3.0|          0.0|           8.0|                 1.0|          0.0|            0.0|[0.0,2.0,3.0,0.0,...| 0.9285714285714286|\n",
      "| 20|       No|    Travel_Rarely|      805|Research & Develo...|               3|        3|   Life Sciences|            1|          1198|                      1|  Male|        87|             2|       1|Laboratory Techni...|              3|       Single|         3033|      12828|                 1|     Y|      No|               12|                3|                       1|           80|               0|                2|                    2|              2|             2|                 2|                      1|                   2|  0.0|                  0.0|              0.0|                  0.0|          0.0|           2.0|                 1.0|          0.0|            0.0|[0.0,0.0,0.0,0.0,...|0.14150943396226415|\n",
      "| 20|       No|    Travel_Rarely|     1141|               Sales|               2|        3|         Medical|            1|          1657|                      3|Female|        31|             3|       1|Sales Representative|              3|       Single|         2783|      13251|                 1|     Y|      No|               19|                3|                       1|           80|               0|                2|                    3|              3|             2|                 2|                      2|                   2|  0.0|                  0.0|              1.0|                  1.0|          1.0|           6.0|                 1.0|          0.0|            0.0|[0.0,1.0,1.0,1.0,...|0.03990610328638498|\n",
      "| 20|      Yes|Travel_Frequently|      769|               Sales|               9|        3|       Marketing|            1|          1077|                      4|Female|        54|             3|       1|Sales Representative|              4|       Single|         2323|      17205|                 1|     Y|     Yes|               14|                3|                       2|           80|               0|                2|                    3|              3|             2|                 2|                      0|                   2|  1.0|                  1.0|              1.0|                  2.0|          1.0|           6.0|                 1.0|          0.0|            1.0|[1.0,1.0,2.0,1.0,...| 0.3448275862068966|\n",
      "| 20|      Yes|Travel_Frequently|      871|Research & Develo...|               6|        3|   Life Sciences|            1|           137|                      4|Female|        66|             2|       1|Laboratory Techni...|              4|       Single|         2926|      19783|                 1|     Y|     Yes|               18|                3|                       2|           80|               0|                1|                    5|              3|             1|                 0|                      1|                   0|  1.0|                  1.0|              0.0|                  0.0|          1.0|           2.0|                 1.0|          0.0|            1.0|[1.0,0.0,0.0,1.0,...|                0.0|\n",
      "| 21|       No|       Non-Travel|      895|               Sales|               9|        2|         Medical|            1|           484|                      1|  Male|        39|             3|       1|Sales Representative|              4|       Single|         2610|       2851|                 1|     Y|      No|               24|                4|                       3|           80|               0|                3|                    3|              2|             3|                 2|                      2|                   2|  0.0|                  2.0|              1.0|                  1.0|          0.0|           6.0|                 1.0|          0.0|            0.0|[2.0,1.0,1.0,0.0,...|0.14150943396226415|\n",
      "| 21|       No|    Travel_Rarely|      996|Research & Develo...|               3|        2|         Medical|            1|           379|                      4|  Male|       100|             2|       1|  Research Scientist|              3|       Single|         3230|      10531|                 1|     Y|      No|               17|                3|                       1|           80|               0|                3|                    4|              4|             3|                 2|                      1|                   0|  0.0|                  0.0|              0.0|                  1.0|          0.0|           1.0|                 1.0|          0.0|            0.0|[0.0,0.0,1.0,0.0,...|0.03990610328638498|\n",
      "| 21|      Yes|Travel_Frequently|      756|               Sales|               1|        1|Technical Degree|            1|           478|                      1|Female|        99|             2|       1|Sales Representative|              2|       Single|         2174|       9150|                 1|     Y|     Yes|               11|                3|                       3|           80|               0|                3|                    3|              3|             3|                 2|                      1|                   2|  1.0|                  1.0|              1.0|                  3.0|          1.0|           6.0|                 1.0|          0.0|            1.0|[1.0,1.0,3.0,1.0,...|               0.75|\n",
      "| 22|       No|    Travel_Rarely|      534|Research & Develo...|              15|        3|         Medical|            1|           144|                      2|Female|        59|             3|       1|Laboratory Techni...|              4|       Single|         2871|      23785|                 1|     Y|      No|               15|                3|                       3|           80|               0|                1|                    5|              3|             0|                 0|                      0|                   0|  0.0|                  0.0|              0.0|                  1.0|          1.0|           2.0|                 1.0|          0.0|            0.0|[0.0,0.0,1.0,1.0,...|                0.0|\n",
      "| 22|       No|    Travel_Rarely|      604|Research & Develo...|               6|        1|         Medical|            1|           675|                      1|  Male|        69|             3|       1|  Research Scientist|              3|      Married|         2773|      12145|                 0|     Y|      No|               20|                4|                       4|           80|               0|                3|                    3|              3|             2|                 2|                      2|                   2|  0.0|                  0.0|              0.0|                  1.0|          0.0|           1.0|                 0.0|          0.0|            0.0|[0.0,0.0,1.0,0.0,...|0.14150943396226415|\n",
      "| 22|       No|    Travel_Rarely|     1230|Research & Develo...|               1|        2|   Life Sciences|            1|           872|                      4|  Male|        33|             2|       2|Manufacturing Dir...|              4|      Married|         4775|      19146|                 6|     Y|      No|               22|                4|                       1|           80|               2|                4|                    2|              1|             2|                 2|                      2|                   2|  0.0|                  0.0|              0.0|                  0.0|          0.0|           3.0|                 0.0|          0.0|            0.0|[0.0,0.0,0.0,0.0,...|0.03990610328638498|\n",
      "| 22|       No|    Travel_Rarely|     1256|Research & Develo...|              19|        1|         Medical|            1|           217|                      3|  Male|        80|             3|       1|  Research Scientist|              4|      Married|         2323|      11992|                 1|     Y|      No|               24|                4|                       1|           80|               2|                2|                    6|              3|             2|                 2|                      2|                   2|  0.0|                  0.0|              0.0|                  1.0|          0.0|           1.0|                 0.0|          0.0|            0.0|[0.0,0.0,1.0,0.0,...|0.03990610328638498|\n",
      "| 22|      Yes|Travel_Frequently|     1368|Research & Develo...|               4|        1|Technical Degree|            1|           593|                      3|  Male|        99|             2|       1|Laboratory Techni...|              3|       Single|         3894|       9129|                 5|     Y|      No|               16|                3|                       3|           80|               0|                4|                    3|              3|             2|                 2|                      1|                   2|  1.0|                  1.0|              0.0|                  3.0|          0.0|           2.0|                 1.0|          0.0|            0.0|[1.0,0.0,3.0,0.0,...|0.03990610328638498|\n",
      "| 22|      Yes|    Travel_Rarely|      391|Research & Develo...|               7|        1|   Life Sciences|            1|          1878|                      4|  Male|        75|             3|       1|  Research Scientist|              2|       Single|         2472|      26092|                 1|     Y|     Yes|               23|                4|                       1|           80|               0|                1|                    2|              3|             1|                 0|                      0|                   0|  1.0|                  0.0|              0.0|                  0.0|          0.0|           1.0|                 1.0|          0.0|            1.0|[0.0,0.0,0.0,0.0,...|                0.4|\n",
      "| 23|       No|    Travel_Rarely|      310|Research & Develo...|              10|        1|         Medical|            1|           784|                      1|  Male|        79|             4|       1|  Research Scientist|              3|       Single|         3505|      19630|                 1|     Y|      No|               18|                3|                       4|           80|               0|                2|                    3|              3|             2|                 2|                      0|                   2|  0.0|                  0.0|              0.0|                  1.0|          0.0|           1.0|                 1.0|          0.0|            0.0|[0.0,0.0,1.0,0.0,...|0.14150943396226415|\n",
      "+---+---------+-----------------+---------+--------------------+----------------+---------+----------------+-------------+--------------+-----------------------+------+----------+--------------+--------+--------------------+---------------+-------------+-------------+-----------+------------------+------+--------+-----------------+-----------------+------------------------+-------------+----------------+-----------------+---------------------+---------------+--------------+------------------+-----------------------+--------------------+-----+---------------------+-----------------+---------------------+-------------+--------------+--------------------+-------------+---------------+--------------------+-------------------+\n",
      "only showing top 20 rows\n",
      "\n"
     ]
    }
   ],
   "source": [
    "val predictions_dt = model_dt.transform(test)\n",
    "predictions_dt.show"
   ]
  },
  {
   "cell_type": "code",
   "execution_count": 25,
   "metadata": {
    "collapsed": true
   },
   "outputs": [],
   "source": [
    "val predictionBinary_dt = binarizer.transform(predictions_dt) "
   ]
  },
  {
   "cell_type": "code",
   "execution_count": 26,
   "metadata": {},
   "outputs": [
    {
     "name": "stdout",
     "output_type": "stream",
     "text": [
      "+-----+------+\n",
      "|label|Errors|\n",
      "+-----+------+\n",
      "|  0.0|   386|\n",
      "|  1.0|    67|\n",
      "+-----+------+\n",
      "\n"
     ]
    }
   ],
   "source": [
    "val wrongPredictions_dt = predictionBinary_dt.where(expr(\"label != prediction\"))\n",
    "val countErrors_dt = wrongPredictions_dt.groupBy(\"label\").agg(count(\"prediction\").alias(\"Errors\"))\n",
    "countErrors_dt.show"
   ]
  },
  {
   "cell_type": "code",
   "execution_count": 27,
   "metadata": {},
   "outputs": [
    {
     "name": "stdout",
     "output_type": "stream",
     "text": [
      "+-----+-------+\n",
      "|label|Correct|\n",
      "+-----+-------+\n",
      "|  0.0|      4|\n",
      "|  1.0|      4|\n",
      "+-----+-------+\n",
      "\n"
     ]
    }
   ],
   "source": [
    "val correctPredictions_dt = predictionBinary_dt.where(expr(\"label == prediction\"))\n",
    "val countCorrectPredictions_dt = correctPredictions_dt.groupBy(\"label\").agg(count(\"prediction\").alias(\"Correct\"))\n",
    "countCorrectPredictions_dt.show"
   ]
  },
  {
   "cell_type": "markdown",
   "metadata": {},
   "source": [
    "### Confusion Matrix and Accuracy (Decision Tree)"
   ]
  },
  {
   "cell_type": "code",
   "execution_count": 28,
   "metadata": {},
   "outputs": [
    {
     "name": "stdout",
     "output_type": "stream",
     "text": [
      "Confusion matrix for Decision Tree:\n",
      "4.0  2.0  \n",
      "2.0  4.0  \n",
      "Accuracy of Decision Tree:\n",
      "0.01735357917570499\n"
     ]
    }
   ],
   "source": [
    "val selectMetrics_dt = predictions_dt.select(\"label\",\"prediction\")\n",
    "val rdd_dt = selectMetrics_dt.rdd.map(row => {\n",
    "      val label = row.getDouble(0)\n",
    "      val prediction = row.getDouble(1)\n",
    "      (prediction, label)\n",
    "    })\n",
    "val metrics_dt = new MulticlassMetrics(rdd_dt)\n",
    "println(\"Confusion matrix for Decision Tree:\")\n",
    "val confusionMatrix_dt=metrics_dt.confusionMatrix\n",
    "println(confusionMatrix_dt)\n",
    "println(\"Accuracy of Decision Tree:\")\n",
    "val accuracy_dt=metrics_dt.accuracy\n",
    "println(accuracy_dt)"
   ]
  },
  {
   "cell_type": "markdown",
   "metadata": {},
   "source": [
    "## Model 3 : Logistic Regression"
   ]
  },
  {
   "cell_type": "code",
   "execution_count": 29,
   "metadata": {},
   "outputs": [
    {
     "name": "stdout",
     "output_type": "stream",
     "text": [
      "Time elapsed for Logistic Regression:\n",
      "4.851917167\n",
      "Coefficients: [-0.21410064512914723,0.5188448826291124,0.06407087472622376,-0.2966350864732555,0.003492472344570198,0.009485474047862567,0.0,1.6996626163602908,-0.026956384625340387,-4.6787964656225E-4,0.04354410688164103,0.0743567547665852,0.0,-6.154104911826443E-5,-0.4794414116244865,8.355537226788188E-5,-0.5878689533641921,-0.30229601514450877,-0.3643527029542467,-4.090608640565197E-5,1.6552747463417513E-7,0.11221342254993368,-0.017812551534071,0.13303511119294464,-0.15386620604854412,0.0,-0.5046918307510031,-0.057262107862185364,-0.1245343845503649,-0.2893295936603231,0.07817516073603716,-0.1392369852351677,0.1647641276196548,-0.09977153045052696] Intercept: 4.898769992117542\n"
     ]
    }
   ],
   "source": [
    "import org.apache.spark.ml.classification.LogisticRegression\n",
    "val lr = new LogisticRegression().setLabelCol(\"label\").setFeaturesCol(\"features\")\n",
    "\n",
    "val startTime_lr = System.nanoTime()  \n",
    "\n",
    "val model_lr = lr.fit(train)\n",
    "\n",
    "val time_lr = (System.nanoTime() - startTime_lr) / 1e9\n",
    "\n",
    "println(\"Time elapsed for Logistic Regression:\")\n",
    "println(time_lr)\n",
    "\n",
    "println(s\"Coefficients: ${model_lr.coefficients} Intercept: ${model_lr.intercept}\")"
   ]
  },
  {
   "cell_type": "code",
   "execution_count": 30,
   "metadata": {},
   "outputs": [
    {
     "name": "stdout",
     "output_type": "stream",
     "text": [
      "+---+---------+-----------------+---------+--------------------+----------------+---------+----------------+-------------+--------------+-----------------------+------+----------+--------------+--------+--------------------+---------------+-------------+-------------+-----------+------------------+------+--------+-----------------+-----------------+------------------------+-------------+----------------+-----------------+---------------------+---------------+--------------+------------------+-----------------------+--------------------+-----+---------------------+-----------------+---------------------+-------------+--------------+--------------------+-------------+---------------+--------------------+--------------------+--------------------+----------+\n",
      "|Age|Attrition|   BusinessTravel|DailyRate|          Department|DistanceFromHome|Education|  EducationField|EmployeeCount|EmployeeNumber|EnvironmentSatisfaction|Gender|HourlyRate|JobInvolvement|JobLevel|             JobRole|JobSatisfaction|MaritalStatus|MonthlyIncome|MonthlyRate|NumCompaniesWorked|Over18|OverTime|PercentSalaryHike|PerformanceRating|RelationshipSatisfaction|StandardHours|StockOptionLevel|TotalWorkingYears|TrainingTimesLastYear|WorkLifeBalance|YearsAtCompany|YearsInCurrentRole|YearsSinceLastPromotion|YearsWithCurrManager|label|BusinessTravelIndexed|DepartmentIndexed|EducationFieldIndexed|GenderIndexed|JobRoleIndexed|MaritalStatusIndexed|Over18Indexed|OverTimeIndexed|            features|       rawPrediction|         probability|prediction|\n",
      "+---+---------+-----------------+---------+--------------------+----------------+---------+----------------+-------------+--------------+-----------------------+------+----------+--------------+--------+--------------------+---------------+-------------+-------------+-----------+------------------+------+--------+-----------------+-----------------+------------------------+-------------+----------------+-----------------+---------------------+---------------+--------------+------------------+-----------------------+--------------------+-----+---------------------+-----------------+---------------------+-------------+--------------+--------------------+-------------+---------------+--------------------+--------------------+--------------------+----------+\n",
      "| 18|       No|       Non-Travel|     1124|Research & Develo...|               1|        3|   Life Sciences|            1|          1368|                      4|Female|        97|             3|       1|Laboratory Techni...|              4|       Single|         1611|      19305|                 1|     Y|      No|               15|                3|                       3|           80|               0|                0|                    5|              4|             0|                 0|                      0|                   0|  0.0|                  2.0|              0.0|                  0.0|          1.0|           2.0|                 1.0|          0.0|            0.0|[2.0,0.0,0.0,1.0,...|[4.13141848804626...|[0.98419376775617...|       0.0|\n",
      "| 18|      Yes|Travel_Frequently|     1306|               Sales|               5|        3|       Marketing|            1|           614|                      2|  Male|        69|             3|       1|Sales Representative|              2|       Single|         1878|       8059|                 1|     Y|     Yes|               14|                3|                       4|           80|               0|                0|                    3|              3|             0|                 0|                      0|                   0|  1.0|                  1.0|              1.0|                  2.0|          0.0|           6.0|                 1.0|          0.0|            1.0|[1.0,1.0,2.0,0.0,...|[-0.9501706041941...|[0.27885051338985...|       1.0|\n",
      "| 19|       No|    Travel_Rarely|      265|Research & Develo...|              25|        3|   Life Sciences|            1|          1269|                      2|Female|        57|             4|       1|  Research Scientist|              4|       Single|         2994|      21221|                 1|     Y|     Yes|               12|                3|                       4|           80|               0|                1|                    2|              3|             1|                 0|                      0|                   1|  0.0|                  0.0|              0.0|                  0.0|          1.0|           1.0|                 1.0|          0.0|            1.0|[0.0,0.0,0.0,1.0,...|[-0.2141177134463...|[0.44667414930313...|       1.0|\n",
      "| 19|      Yes|Travel_Frequently|      602|               Sales|               1|        1|Technical Degree|            1|           235|                      3|Female|       100|             1|       1|Sales Representative|              1|       Single|         2325|      20989|                 0|     Y|      No|               21|                4|                       1|           80|               0|                1|                    5|              4|             0|                 0|                      0|                   0|  1.0|                  1.0|              1.0|                  3.0|          1.0|           6.0|                 1.0|          0.0|            0.0|[1.0,1.0,3.0,1.0,...|[0.17002457715352...|[0.54240404087684...|       0.0|\n",
      "| 19|      Yes|    Travel_Rarely|      419|               Sales|              21|        3|           Other|            1|           959|                      4|  Male|        37|             2|       1|Sales Representative|              2|       Single|         2121|       9947|                 1|     Y|     Yes|               13|                3|                       2|           80|               0|                1|                    3|              4|             1|                 0|                      0|                   0|  1.0|                  0.0|              1.0|                  4.0|          0.0|           6.0|                 1.0|          0.0|            1.0|[0.0,1.0,4.0,0.0,...|[-2.0297530267344...|[0.11611426696288...|       1.0|\n",
      "| 19|      Yes|    Travel_Rarely|      489|     Human Resources|               2|        2|Technical Degree|            1|           566|                      1|  Male|        52|             2|       1|     Human Resources|              4|       Single|         2564|      18437|                 1|     Y|      No|               12|                3|                       3|           80|               0|                1|                    3|              4|             1|                 0|                      0|                   0|  1.0|                  0.0|              2.0|                  3.0|          0.0|           8.0|                 1.0|          0.0|            0.0|[0.0,2.0,3.0,0.0,...|[-0.4396910715090...|[0.39181458319021...|       1.0|\n",
      "| 20|       No|    Travel_Rarely|      805|Research & Develo...|               3|        3|   Life Sciences|            1|          1198|                      1|  Male|        87|             2|       1|Laboratory Techni...|              3|       Single|         3033|      12828|                 1|     Y|      No|               12|                3|                       1|           80|               0|                2|                    2|              2|             2|                 2|                      1|                   2|  0.0|                  0.0|              0.0|                  0.0|          0.0|           2.0|                 1.0|          0.0|            0.0|[0.0,0.0,0.0,0.0,...|[-0.1587842896155...|[0.46038712079078...|       1.0|\n",
      "| 20|       No|    Travel_Rarely|     1141|               Sales|               2|        3|         Medical|            1|          1657|                      3|Female|        31|             3|       1|Sales Representative|              3|       Single|         2783|      13251|                 1|     Y|      No|               19|                3|                       1|           80|               0|                2|                    3|              3|             2|                 2|                      2|                   2|  0.0|                  0.0|              1.0|                  1.0|          1.0|           6.0|                 1.0|          0.0|            0.0|[0.0,1.0,1.0,1.0,...|[1.68488620886245...|[0.84355046216043...|       0.0|\n",
      "| 20|      Yes|Travel_Frequently|      769|               Sales|               9|        3|       Marketing|            1|          1077|                      4|Female|        54|             3|       1|Sales Representative|              4|       Single|         2323|      17205|                 1|     Y|     Yes|               14|                3|                       2|           80|               0|                2|                    3|              3|             2|                 2|                      0|                   2|  1.0|                  1.0|              1.0|                  2.0|          1.0|           6.0|                 1.0|          0.0|            1.0|[1.0,1.0,2.0,1.0,...|[0.83743232697661...|[0.69792415896451...|       0.0|\n",
      "| 20|      Yes|Travel_Frequently|      871|Research & Develo...|               6|        3|   Life Sciences|            1|           137|                      4|Female|        66|             2|       1|Laboratory Techni...|              4|       Single|         2926|      19783|                 1|     Y|     Yes|               18|                3|                       2|           80|               0|                1|                    5|              3|             1|                 0|                      1|                   0|  1.0|                  1.0|              0.0|                  0.0|          1.0|           2.0|                 1.0|          0.0|            1.0|[1.0,0.0,0.0,1.0,...|[0.75271519842097...|[0.67977003926476...|       0.0|\n",
      "| 21|       No|       Non-Travel|      895|               Sales|               9|        2|         Medical|            1|           484|                      1|  Male|        39|             3|       1|Sales Representative|              4|       Single|         2610|       2851|                 1|     Y|      No|               24|                4|                       3|           80|               0|                3|                    3|              2|             3|                 2|                      2|                   2|  0.0|                  2.0|              1.0|                  1.0|          0.0|           6.0|                 1.0|          0.0|            0.0|[2.0,1.0,1.0,0.0,...|[0.77863434175336...|[0.68538570871074...|       0.0|\n",
      "| 21|       No|    Travel_Rarely|      996|Research & Develo...|               3|        2|         Medical|            1|           379|                      4|  Male|       100|             2|       1|  Research Scientist|              3|       Single|         3230|      10531|                 1|     Y|      No|               17|                3|                       1|           80|               0|                3|                    4|              4|             3|                 2|                      1|                   0|  0.0|                  0.0|              0.0|                  1.0|          0.0|           1.0|                 1.0|          0.0|            0.0|[0.0,0.0,1.0,0.0,...|[2.06292467164221...|[0.88724708472595...|       0.0|\n",
      "| 21|      Yes|Travel_Frequently|      756|               Sales|               1|        1|Technical Degree|            1|           478|                      1|Female|        99|             2|       1|Sales Representative|              2|       Single|         2174|       9150|                 1|     Y|     Yes|               11|                3|                       3|           80|               0|                3|                    3|              3|             3|                 2|                      1|                   2|  1.0|                  1.0|              1.0|                  3.0|          1.0|           6.0|                 1.0|          0.0|            1.0|[1.0,1.0,3.0,1.0,...|[-1.5942302203767...|[0.16878956667481...|       1.0|\n",
      "| 22|       No|    Travel_Rarely|      534|Research & Develo...|              15|        3|         Medical|            1|           144|                      2|Female|        59|             3|       1|Laboratory Techni...|              4|       Single|         2871|      23785|                 1|     Y|      No|               15|                3|                       3|           80|               0|                1|                    5|              3|             0|                 0|                      0|                   0|  0.0|                  0.0|              0.0|                  1.0|          1.0|           2.0|                 1.0|          0.0|            0.0|[0.0,0.0,1.0,1.0,...|[1.64900403051147...|[0.83875639686477...|       0.0|\n",
      "| 22|       No|    Travel_Rarely|      604|Research & Develo...|               6|        1|         Medical|            1|           675|                      1|  Male|        69|             3|       1|  Research Scientist|              3|      Married|         2773|      12145|                 0|     Y|      No|               20|                4|                       4|           80|               0|                3|                    3|              3|             2|                 2|                      2|                   2|  0.0|                  0.0|              0.0|                  1.0|          0.0|           1.0|                 0.0|          0.0|            0.0|[0.0,0.0,1.0,0.0,...|[1.20437668563486...|[0.76930245634164...|       0.0|\n",
      "| 22|       No|    Travel_Rarely|     1230|Research & Develo...|               1|        2|   Life Sciences|            1|           872|                      4|  Male|        33|             2|       2|Manufacturing Dir...|              4|      Married|         4775|      19146|                 6|     Y|      No|               22|                4|                       1|           80|               2|                4|                    2|              1|             2|                 2|                      2|                   2|  0.0|                  0.0|              0.0|                  0.0|          0.0|           3.0|                 0.0|          0.0|            0.0|[0.0,0.0,0.0,0.0,...|[2.57488790799778...|[0.92922781693824...|       0.0|\n",
      "| 22|       No|    Travel_Rarely|     1256|Research & Develo...|              19|        1|         Medical|            1|           217|                      3|  Male|        80|             3|       1|  Research Scientist|              4|      Married|         2323|      11992|                 1|     Y|      No|               24|                4|                       1|           80|               2|                2|                    6|              3|             2|                 2|                      2|                   2|  0.0|                  0.0|              0.0|                  1.0|          0.0|           1.0|                 0.0|          0.0|            0.0|[0.0,0.0,1.0,0.0,...|[3.04227190189693...|[0.95444770737859...|       0.0|\n",
      "| 22|      Yes|Travel_Frequently|     1368|Research & Develo...|               4|        1|Technical Degree|            1|           593|                      3|  Male|        99|             2|       1|Laboratory Techni...|              3|       Single|         3894|       9129|                 5|     Y|      No|               16|                3|                       3|           80|               0|                4|                    3|              3|             2|                 2|                      1|                   2|  1.0|                  1.0|              0.0|                  3.0|          0.0|           2.0|                 1.0|          0.0|            0.0|[1.0,0.0,3.0,0.0,...|[1.70059951680953...|[0.84561301903798...|       0.0|\n",
      "| 22|      Yes|    Travel_Rarely|      391|Research & Develo...|               7|        1|   Life Sciences|            1|          1878|                      4|  Male|        75|             3|       1|  Research Scientist|              2|       Single|         2472|      26092|                 1|     Y|     Yes|               23|                4|                       1|           80|               0|                1|                    2|              3|             1|                 0|                      0|                   0|  1.0|                  0.0|              0.0|                  0.0|          0.0|           1.0|                 1.0|          0.0|            1.0|[0.0,0.0,0.0,0.0,...|[-0.2807668653325...|[0.43026577884334...|       1.0|\n",
      "| 23|       No|    Travel_Rarely|      310|Research & Develo...|              10|        1|         Medical|            1|           784|                      1|  Male|        79|             4|       1|  Research Scientist|              3|       Single|         3505|      19630|                 1|     Y|      No|               18|                3|                       4|           80|               0|                2|                    3|              3|             2|                 2|                      0|                   2|  0.0|                  0.0|              0.0|                  1.0|          0.0|           1.0|                 1.0|          0.0|            0.0|[0.0,0.0,1.0,0.0,...|[1.79002294164517...|[0.85693008920955...|       0.0|\n",
      "+---+---------+-----------------+---------+--------------------+----------------+---------+----------------+-------------+--------------+-----------------------+------+----------+--------------+--------+--------------------+---------------+-------------+-------------+-----------+------------------+------+--------+-----------------+-----------------+------------------------+-------------+----------------+-----------------+---------------------+---------------+--------------+------------------+-----------------------+--------------------+-----+---------------------+-----------------+---------------------+-------------+--------------+--------------------+-------------+---------------+--------------------+--------------------+--------------------+----------+\n",
      "only showing top 20 rows\n",
      "\n"
     ]
    }
   ],
   "source": [
    "val predictions_lr=model_lr.transform(test)\n",
    "predictions_lr.show"
   ]
  },
  {
   "cell_type": "code",
   "execution_count": 31,
   "metadata": {
    "collapsed": true
   },
   "outputs": [],
   "source": [
    "val predictionBinary_lr = binarizer.transform(predictions_lr) "
   ]
  },
  {
   "cell_type": "code",
   "execution_count": 32,
   "metadata": {},
   "outputs": [
    {
     "name": "stdout",
     "output_type": "stream",
     "text": [
      "+-----+------+\n",
      "|label|Errors|\n",
      "+-----+------+\n",
      "|  0.0|    12|\n",
      "|  1.0|    47|\n",
      "+-----+------+\n",
      "\n"
     ]
    }
   ],
   "source": [
    "val wrongPredictions_lr = predictionBinary_lr.where(expr(\"label != prediction\"))\n",
    "val countErrors_lr = wrongPredictions_lr.groupBy(\"label\").agg(count(\"prediction\").alias(\"Errors\"))\n",
    "countErrors_lr.show"
   ]
  },
  {
   "cell_type": "code",
   "execution_count": 33,
   "metadata": {},
   "outputs": [
    {
     "name": "stdout",
     "output_type": "stream",
     "text": [
      "+-----+-------+\n",
      "|label|Correct|\n",
      "+-----+-------+\n",
      "|  0.0|    378|\n",
      "|  1.0|     24|\n",
      "+-----+-------+\n",
      "\n"
     ]
    }
   ],
   "source": [
    "val correctPredictions_lr = predictionBinary_lr.where(expr(\"label == prediction\"))\n",
    "val countCorrectPredictions_lr = correctPredictions_lr.groupBy(\"label\").agg(count(\"prediction\").alias(\"Correct\"))\n",
    "countCorrectPredictions_lr.show"
   ]
  },
  {
   "cell_type": "markdown",
   "metadata": {},
   "source": [
    "### Confusion Matrix and Accuracy (Logistic Regression)"
   ]
  },
  {
   "cell_type": "code",
   "execution_count": 34,
   "metadata": {},
   "outputs": [
    {
     "name": "stdout",
     "output_type": "stream",
     "text": [
      "Confusion matrix for Logistic Regression:\n",
      "378.0  12.0  \n",
      "47.0   24.0  \n",
      "Accuracy of Logistic Regression:\n",
      "0.8720173535791758\n"
     ]
    }
   ],
   "source": [
    "val selectMetrics_lr = predictions_lr.select(\"label\",\"prediction\")\n",
    "val rdd_lr = selectMetrics_lr.rdd.map(row => {\n",
    "      val label = row.getDouble(0)\n",
    "      val prediction = row.getDouble(1)\n",
    "      (prediction, label)\n",
    "    })\n",
    "val metrics_lr = new MulticlassMetrics(rdd_lr)\n",
    "println(\"Confusion matrix for Logistic Regression:\")\n",
    "val confusionMatrix_lr=metrics_lr.confusionMatrix\n",
    "println(confusionMatrix_lr)\n",
    "println(\"Accuracy of Logistic Regression:\")\n",
    "val accuracy_lr=metrics_lr.accuracy\n",
    "println(accuracy_lr)"
   ]
  },
  {
   "cell_type": "markdown",
   "metadata": {},
   "source": [
    "## Model 4 : Gradient Boosting Classifier"
   ]
  },
  {
   "cell_type": "code",
   "execution_count": 35,
   "metadata": {},
   "outputs": [
    {
     "name": "stdout",
     "output_type": "stream",
     "text": [
      "Time elapsed for Gradient Boost:\n",
      "6.941712915\n"
     ]
    }
   ],
   "source": [
    "import org.apache.spark.ml.classification.{GBTClassificationModel, GBTClassifier}\n",
    "val gbt = new GBTClassifier().setMaxIter(10).setLabelCol(\"label\").setFeaturesCol(\"features\")\n",
    "\n",
    "val startTime_gbt = System.nanoTime()  \n",
    "\n",
    "val model_gbt = gbt.fit(train)\n",
    "\n",
    "val time_gbt = (System.nanoTime() - startTime_gbt) / 1e9\n",
    "\n",
    "println(\"Time elapsed for Gradient Boost:\")\n",
    "println(time_gbt)"
   ]
  },
  {
   "cell_type": "code",
   "execution_count": 36,
   "metadata": {},
   "outputs": [
    {
     "name": "stdout",
     "output_type": "stream",
     "text": [
      "+---+---------+-----------------+---------+--------------------+----------------+---------+----------------+-------------+--------------+-----------------------+------+----------+--------------+--------+--------------------+---------------+-------------+-------------+-----------+------------------+------+--------+-----------------+-----------------+------------------------+-------------+----------------+-----------------+---------------------+---------------+--------------+------------------+-----------------------+--------------------+-----+---------------------+-----------------+---------------------+-------------+--------------+--------------------+-------------+---------------+--------------------+--------------------+--------------------+----------+\n",
      "|Age|Attrition|   BusinessTravel|DailyRate|          Department|DistanceFromHome|Education|  EducationField|EmployeeCount|EmployeeNumber|EnvironmentSatisfaction|Gender|HourlyRate|JobInvolvement|JobLevel|             JobRole|JobSatisfaction|MaritalStatus|MonthlyIncome|MonthlyRate|NumCompaniesWorked|Over18|OverTime|PercentSalaryHike|PerformanceRating|RelationshipSatisfaction|StandardHours|StockOptionLevel|TotalWorkingYears|TrainingTimesLastYear|WorkLifeBalance|YearsAtCompany|YearsInCurrentRole|YearsSinceLastPromotion|YearsWithCurrManager|label|BusinessTravelIndexed|DepartmentIndexed|EducationFieldIndexed|GenderIndexed|JobRoleIndexed|MaritalStatusIndexed|Over18Indexed|OverTimeIndexed|            features|       rawPrediction|         probability|prediction|\n",
      "+---+---------+-----------------+---------+--------------------+----------------+---------+----------------+-------------+--------------+-----------------------+------+----------+--------------+--------+--------------------+---------------+-------------+-------------+-----------+------------------+------+--------+-----------------+-----------------+------------------------+-------------+----------------+-----------------+---------------------+---------------+--------------+------------------+-----------------------+--------------------+-----+---------------------+-----------------+---------------------+-------------+--------------+--------------------+-------------+---------------+--------------------+--------------------+--------------------+----------+\n",
      "| 18|       No|       Non-Travel|     1124|Research & Develo...|               1|        3|   Life Sciences|            1|          1368|                      4|Female|        97|             3|       1|Laboratory Techni...|              4|       Single|         1611|      19305|                 1|     Y|      No|               15|                3|                       3|           80|               0|                0|                    5|              4|             0|                 0|                      0|                   0|  0.0|                  2.0|              0.0|                  0.0|          1.0|           2.0|                 1.0|          0.0|            0.0|[2.0,0.0,0.0,1.0,...|[-0.6345142138719...|[0.21942361460065...|       1.0|\n",
      "| 18|      Yes|Travel_Frequently|     1306|               Sales|               5|        3|       Marketing|            1|           614|                      2|  Male|        69|             3|       1|Sales Representative|              2|       Single|         1878|       8059|                 1|     Y|     Yes|               14|                3|                       4|           80|               0|                0|                    3|              3|             0|                 0|                      0|                   0|  1.0|                  1.0|              1.0|                  2.0|          0.0|           6.0|                 1.0|          0.0|            1.0|[1.0,1.0,2.0,0.0,...|[-0.8623167585744...|[0.15127529962612...|       1.0|\n",
      "| 19|       No|    Travel_Rarely|      265|Research & Develo...|              25|        3|   Life Sciences|            1|          1269|                      2|Female|        57|             4|       1|  Research Scientist|              4|       Single|         2994|      21221|                 1|     Y|     Yes|               12|                3|                       4|           80|               0|                1|                    2|              3|             1|                 0|                      0|                   1|  0.0|                  0.0|              0.0|                  0.0|          1.0|           1.0|                 1.0|          0.0|            1.0|[0.0,0.0,0.0,1.0,...|[-0.9010759585371...|[0.14158931528790...|       1.0|\n",
      "| 19|      Yes|Travel_Frequently|      602|               Sales|               1|        1|Technical Degree|            1|           235|                      3|Female|       100|             1|       1|Sales Representative|              1|       Single|         2325|      20989|                 0|     Y|      No|               21|                4|                       1|           80|               0|                1|                    5|              4|             0|                 0|                      0|                   0|  1.0|                  1.0|              1.0|                  3.0|          1.0|           6.0|                 1.0|          0.0|            0.0|[1.0,1.0,3.0,1.0,...|[-0.9959965352466...|[0.12004616481423...|       1.0|\n",
      "| 19|      Yes|    Travel_Rarely|      419|               Sales|              21|        3|           Other|            1|           959|                      4|  Male|        37|             2|       1|Sales Representative|              2|       Single|         2121|       9947|                 1|     Y|     Yes|               13|                3|                       2|           80|               0|                1|                    3|              4|             1|                 0|                      0|                   0|  1.0|                  0.0|              1.0|                  4.0|          0.0|           6.0|                 1.0|          0.0|            1.0|[0.0,1.0,4.0,0.0,...|[-1.1111147751155...|[0.09777195342619...|       1.0|\n",
      "| 19|      Yes|    Travel_Rarely|      489|     Human Resources|               2|        2|Technical Degree|            1|           566|                      1|  Male|        52|             2|       1|     Human Resources|              4|       Single|         2564|      18437|                 1|     Y|      No|               12|                3|                       3|           80|               0|                1|                    3|              4|             1|                 0|                      0|                   0|  1.0|                  0.0|              2.0|                  3.0|          0.0|           8.0|                 1.0|          0.0|            0.0|[0.0,2.0,3.0,0.0,...|[-1.6127927826405...|[0.03821416417166...|       1.0|\n",
      "| 20|       No|    Travel_Rarely|      805|Research & Develo...|               3|        3|   Life Sciences|            1|          1198|                      1|  Male|        87|             2|       1|Laboratory Techni...|              3|       Single|         3033|      12828|                 1|     Y|      No|               12|                3|                       1|           80|               0|                2|                    2|              2|             2|                 2|                      1|                   2|  0.0|                  0.0|              0.0|                  0.0|          0.0|           2.0|                 1.0|          0.0|            0.0|[0.0,0.0,0.0,0.0,...|[0.15408029125262...|[0.57643621680771...|       0.0|\n",
      "| 20|       No|    Travel_Rarely|     1141|               Sales|               2|        3|         Medical|            1|          1657|                      3|Female|        31|             3|       1|Sales Representative|              3|       Single|         2783|      13251|                 1|     Y|      No|               19|                3|                       1|           80|               0|                2|                    3|              3|             2|                 2|                      2|                   2|  0.0|                  0.0|              1.0|                  1.0|          1.0|           6.0|                 1.0|          0.0|            0.0|[0.0,1.0,1.0,1.0,...|[1.06413227117256...|[0.89362014285876...|       0.0|\n",
      "| 20|      Yes|Travel_Frequently|      769|               Sales|               9|        3|       Marketing|            1|          1077|                      4|Female|        54|             3|       1|Sales Representative|              4|       Single|         2323|      17205|                 1|     Y|     Yes|               14|                3|                       2|           80|               0|                2|                    3|              3|             2|                 2|                      0|                   2|  1.0|                  1.0|              1.0|                  2.0|          1.0|           6.0|                 1.0|          0.0|            1.0|[1.0,1.0,2.0,1.0,...|[0.33179491413127...|[0.66006633193742...|       0.0|\n",
      "| 20|      Yes|Travel_Frequently|      871|Research & Develo...|               6|        3|   Life Sciences|            1|           137|                      4|Female|        66|             2|       1|Laboratory Techni...|              4|       Single|         2926|      19783|                 1|     Y|     Yes|               18|                3|                       2|           80|               0|                1|                    5|              3|             1|                 0|                      1|                   0|  1.0|                  1.0|              0.0|                  0.0|          1.0|           2.0|                 1.0|          0.0|            1.0|[1.0,0.0,0.0,1.0,...|[1.00150713311904...|[0.88111319351330...|       0.0|\n",
      "| 21|       No|       Non-Travel|      895|               Sales|               9|        2|         Medical|            1|           484|                      1|  Male|        39|             3|       1|Sales Representative|              4|       Single|         2610|       2851|                 1|     Y|      No|               24|                4|                       3|           80|               0|                3|                    3|              2|             3|                 2|                      2|                   2|  0.0|                  2.0|              1.0|                  1.0|          0.0|           6.0|                 1.0|          0.0|            0.0|[2.0,1.0,1.0,0.0,...|[0.67961859768615...|[0.79563569400743...|       0.0|\n",
      "| 21|       No|    Travel_Rarely|      996|Research & Develo...|               3|        2|         Medical|            1|           379|                      4|  Male|       100|             2|       1|  Research Scientist|              3|       Single|         3230|      10531|                 1|     Y|      No|               17|                3|                       1|           80|               0|                3|                    4|              4|             3|                 2|                      1|                   0|  0.0|                  0.0|              0.0|                  1.0|          0.0|           1.0|                 1.0|          0.0|            0.0|[0.0,0.0,1.0,0.0,...|[0.79321078916309...|[0.83011204841160...|       0.0|\n",
      "| 21|      Yes|Travel_Frequently|      756|               Sales|               1|        1|Technical Degree|            1|           478|                      1|Female|        99|             2|       1|Sales Representative|              2|       Single|         2174|       9150|                 1|     Y|     Yes|               11|                3|                       3|           80|               0|                3|                    3|              3|             3|                 2|                      1|                   2|  1.0|                  1.0|              1.0|                  3.0|          1.0|           6.0|                 1.0|          0.0|            1.0|[1.0,1.0,3.0,1.0,...|[-1.0191236475794...|[0.11524532407911...|       1.0|\n",
      "| 22|       No|    Travel_Rarely|      534|Research & Develo...|              15|        3|         Medical|            1|           144|                      2|Female|        59|             3|       1|Laboratory Techni...|              4|       Single|         2871|      23785|                 1|     Y|      No|               15|                3|                       3|           80|               0|                1|                    5|              3|             0|                 0|                      0|                   0|  0.0|                  0.0|              0.0|                  1.0|          1.0|           2.0|                 1.0|          0.0|            0.0|[0.0,0.0,1.0,1.0,...|[1.02328839099227...|[0.88560126432863...|       0.0|\n",
      "| 22|       No|    Travel_Rarely|      604|Research & Develo...|               6|        1|         Medical|            1|           675|                      1|  Male|        69|             3|       1|  Research Scientist|              3|      Married|         2773|      12145|                 0|     Y|      No|               20|                4|                       4|           80|               0|                3|                    3|              3|             2|                 2|                      2|                   2|  0.0|                  0.0|              0.0|                  1.0|          0.0|           1.0|                 0.0|          0.0|            0.0|[0.0,0.0,1.0,0.0,...|[0.34308627168403...|[0.66511494980401...|       0.0|\n",
      "| 22|       No|    Travel_Rarely|     1230|Research & Develo...|               1|        2|   Life Sciences|            1|           872|                      4|  Male|        33|             2|       2|Manufacturing Dir...|              4|      Married|         4775|      19146|                 6|     Y|      No|               22|                4|                       1|           80|               2|                4|                    2|              1|             2|                 2|                      2|                   2|  0.0|                  0.0|              0.0|                  0.0|          0.0|           3.0|                 0.0|          0.0|            0.0|[0.0,0.0,0.0,0.0,...|[0.59435667532798...|[0.76651086904495...|       0.0|\n",
      "| 22|       No|    Travel_Rarely|     1256|Research & Develo...|              19|        1|         Medical|            1|           217|                      3|  Male|        80|             3|       1|  Research Scientist|              4|      Married|         2323|      11992|                 1|     Y|      No|               24|                4|                       1|           80|               2|                2|                    6|              3|             2|                 2|                      2|                   2|  0.0|                  0.0|              0.0|                  1.0|          0.0|           1.0|                 0.0|          0.0|            0.0|[0.0,0.0,1.0,0.0,...|[1.30794723857527...|[0.93187754214774...|       0.0|\n",
      "| 22|      Yes|Travel_Frequently|     1368|Research & Develo...|               4|        1|Technical Degree|            1|           593|                      3|  Male|        99|             2|       1|Laboratory Techni...|              3|       Single|         3894|       9129|                 5|     Y|      No|               16|                3|                       3|           80|               0|                4|                    3|              3|             2|                 2|                      1|                   2|  1.0|                  1.0|              0.0|                  3.0|          0.0|           2.0|                 1.0|          0.0|            0.0|[1.0,0.0,3.0,0.0,...|[1.04339236738913...|[0.88961207408858...|       0.0|\n",
      "| 22|      Yes|    Travel_Rarely|      391|Research & Develo...|               7|        1|   Life Sciences|            1|          1878|                      4|  Male|        75|             3|       1|  Research Scientist|              2|       Single|         2472|      26092|                 1|     Y|     Yes|               23|                4|                       1|           80|               0|                1|                    2|              3|             1|                 0|                      0|                   0|  1.0|                  0.0|              0.0|                  0.0|          0.0|           1.0|                 1.0|          0.0|            1.0|[0.0,0.0,0.0,0.0,...|[-0.4651381124629...|[0.28286867781839...|       1.0|\n",
      "| 23|       No|    Travel_Rarely|      310|Research & Develo...|              10|        1|         Medical|            1|           784|                      1|  Male|        79|             4|       1|  Research Scientist|              3|       Single|         3505|      19630|                 1|     Y|      No|               18|                3|                       4|           80|               0|                2|                    3|              3|             2|                 2|                      0|                   2|  0.0|                  0.0|              0.0|                  1.0|          0.0|           1.0|                 1.0|          0.0|            0.0|[0.0,0.0,1.0,0.0,...|[0.34308627168403...|[0.66511494980401...|       0.0|\n",
      "+---+---------+-----------------+---------+--------------------+----------------+---------+----------------+-------------+--------------+-----------------------+------+----------+--------------+--------+--------------------+---------------+-------------+-------------+-----------+------------------+------+--------+-----------------+-----------------+------------------------+-------------+----------------+-----------------+---------------------+---------------+--------------+------------------+-----------------------+--------------------+-----+---------------------+-----------------+---------------------+-------------+--------------+--------------------+-------------+---------------+--------------------+--------------------+--------------------+----------+\n",
      "only showing top 20 rows\n",
      "\n"
     ]
    }
   ],
   "source": [
    "val predictions_gbt=model_gbt.transform(test)\n",
    "predictions_gbt.show"
   ]
  },
  {
   "cell_type": "code",
   "execution_count": 37,
   "metadata": {
    "collapsed": true
   },
   "outputs": [],
   "source": [
    "val predictionBinary_gbt = binarizer.transform(predictions_gbt) "
   ]
  },
  {
   "cell_type": "code",
   "execution_count": 38,
   "metadata": {},
   "outputs": [
    {
     "name": "stdout",
     "output_type": "stream",
     "text": [
      "+-----+------+\n",
      "|label|Errors|\n",
      "+-----+------+\n",
      "|  0.0|    26|\n",
      "|  1.0|    43|\n",
      "+-----+------+\n",
      "\n"
     ]
    }
   ],
   "source": [
    "val wrongPredictions_gbt = predictionBinary_gbt.where(expr(\"label != prediction\"))\n",
    "val countErrors_gbt = wrongPredictions_gbt.groupBy(\"label\").agg(count(\"prediction\").alias(\"Errors\"))\n",
    "countErrors_gbt.show"
   ]
  },
  {
   "cell_type": "code",
   "execution_count": 39,
   "metadata": {},
   "outputs": [
    {
     "name": "stdout",
     "output_type": "stream",
     "text": [
      "+-----+-------+\n",
      "|label|Correct|\n",
      "+-----+-------+\n",
      "|  0.0|    364|\n",
      "|  1.0|     28|\n",
      "+-----+-------+\n",
      "\n"
     ]
    }
   ],
   "source": [
    "val correctPredictions_gbt = predictionBinary_gbt.where(expr(\"label == prediction\"))\n",
    "val countCorrectPredictions_gbt = correctPredictions_gbt.groupBy(\"label\").agg(count(\"prediction\").alias(\"Correct\"))\n",
    "countCorrectPredictions_gbt.show"
   ]
  },
  {
   "cell_type": "markdown",
   "metadata": {},
   "source": [
    "### Confusion Matrix and Accuracy (Gradient Boosting Classifier)"
   ]
  },
  {
   "cell_type": "code",
   "execution_count": 40,
   "metadata": {},
   "outputs": [
    {
     "name": "stdout",
     "output_type": "stream",
     "text": [
      "Confusion matrix for Graident Boost:\n",
      "364.0  26.0  \n",
      "43.0   28.0  \n",
      "Accuracy of Gradient Boost:\n",
      "0.8503253796095445\n"
     ]
    }
   ],
   "source": [
    "val selectMetrics_gbt = predictions_gbt.select(\"label\",\"prediction\")\n",
    "val rdd_gbt = selectMetrics_gbt.rdd.map(row => {\n",
    "      val label = row.getDouble(0)\n",
    "      val prediction = row.getDouble(1)\n",
    "      (prediction, label)\n",
    "    })\n",
    "val metrics_gbt = new MulticlassMetrics(rdd_gbt)\n",
    "println(\"Confusion matrix for Graident Boost:\")\n",
    "val confusionMatrix_gbt=metrics_gbt.confusionMatrix\n",
    "println(confusionMatrix_gbt)\n",
    "println(\"Accuracy of Gradient Boost:\")\n",
    "val accuracy_gbt=metrics_gbt.accuracy\n",
    "println(accuracy_gbt)"
   ]
  },
  {
   "cell_type": "markdown",
   "metadata": {},
   "source": [
    "### Feature importance using Gradient Boosting Classifier"
   ]
  },
  {
   "cell_type": "markdown",
   "metadata": {},
   "source": [
    "The attribute _featureimportances_ tells us which features within the dataset has been given most importance through the Gradient Boost algorithm."
   ]
  },
  {
   "cell_type": "code",
   "execution_count": 41,
   "metadata": {
    "scrolled": true
   },
   "outputs": [
    {
     "name": "stdout",
     "output_type": "stream",
     "text": [
      "(DistanceFromHome,0.0842059217229255)\n",
      "(EmployeeNumber,0.06708985482086756)\n",
      "(GenderIndexed,0.06667782068935119)\n",
      "(EnvironmentSatisfaction,0.06598774736027943)\n",
      "(JobRoleIndexed,0.06045894805229842)\n",
      "(StockOptionLevel,0.04907723497687035)\n",
      "(DailyRate,0.048325912129020786)\n",
      "(YearsAtCompany,0.04799554051669127)\n",
      "(Over18Indexed,0.043271798934119435)\n",
      "(JobLevel,0.04093618065006249)\n",
      "(JobSatisfaction,0.04068730744797036)\n",
      "(EmployeeCount,0.0391714950078628)\n",
      "(MaritalStatusIndexed,0.0340120703070706)\n",
      "(PercentSalaryHike,0.03336586028807294)\n",
      "(TotalWorkingYears,0.027956587415729678)\n",
      "(MonthlyRate,0.02791972844667373)\n",
      "(BusinessTravelIndexed,0.02772339715111606)\n",
      "(YearsSinceLastPromotion,0.027046397191247226)\n",
      "(NumCompaniesWorked,0.026351250143904006)\n",
      "(RelationshipSatisfaction,0.024998623214240793)\n",
      "(WorkLifeBalance,0.02071676647347053)\n",
      "(TrainingTimesLastYear,0.018494634368742366)\n",
      "(MonthlyIncome,0.014489594767120867)\n",
      "(YearsInCurrentRole,0.012546053691839067)\n",
      "(OverTimeIndexed,0.012141929335073732)\n",
      "(DepartmentIndexed,0.009081083694417652)\n",
      "(Education,0.008691486282229304)\n",
      "(HourlyRate,0.0074128251100195695)\n",
      "(YearsWithCurrManager,0.00672441779999083)\n",
      "(Age,0.006441532010721084)\n",
      "(EducationFieldIndexed,0.0)\n",
      "(JobInvolvement,0.0)\n",
      "(PerformanceRating,0.0)\n",
      "(StandardHours,0.0)\n"
     ]
    }
   ],
   "source": [
    "val importance_gbt=model_gbt.featureImportances\n",
    "val featuresArray=Array(\"BusinessTravelIndexed\",\"Age\",\"DailyRate\",\"DepartmentIndexed\",\"DistanceFromHome\",\"Education\",\"EducationFieldIndexed\",\"EmployeeCount\",\n",
    "\"EmployeeNumber\",\"EnvironmentSatisfaction\",\"GenderIndexed\",\"HourlyRate\",\"JobInvolvement\",\"JobLevel\",\"JobRoleIndexed\",\"JobSatisfaction\",\"MaritalStatusIndexed\",\n",
    "\"MonthlyIncome\",\"MonthlyRate\",\"NumCompaniesWorked\",\"Over18Indexed\",\"OverTimeIndexed\",\"PercentSalaryHike\",\"PerformanceRating\",\"RelationshipSatisfaction\",\n",
    "\"StandardHours\",\"StockOptionLevel\",\"TotalWorkingYears\",\"TrainingTimesLastYear\",\"WorkLifeBalance\",\"YearsAtCompany\",\"YearsInCurrentRole\",\"YearsSinceLastPromotion\",\n",
    "\"YearsWithCurrManager\")\n",
    "val features_importance_gbt = featuresArray.zip(importance_gbt.toArray).sortBy(-_._2)\n",
    "for (item <- features_importance_gbt)\n",
    "{\n",
    "    println(item)\n",
    "}"
   ]
  },
  {
   "cell_type": "markdown",
   "metadata": {},
   "source": [
    "<img src = \"./Importance_GBT.png\">"
   ]
  },
  {
   "cell_type": "markdown",
   "metadata": {},
   "source": [
    "We can see that \"Distance From Home\" was surprisingly considered as the most important feature by the Gradient Boosting algorithm while a seemingly more important feature like \"Performance Rating\" was given a ranking score of 0.\n",
    "\n",
    "_Note: The important features in the graphs are representative of one of our code runs._"
   ]
  },
  {
   "cell_type": "markdown",
   "metadata": {},
   "source": [
    "## Model 5 : Random Forest"
   ]
  },
  {
   "cell_type": "code",
   "execution_count": 42,
   "metadata": {},
   "outputs": [
    {
     "name": "stdout",
     "output_type": "stream",
     "text": [
      "Time elapsed for Random Forest:\n",
      "2.094999318\n"
     ]
    }
   ],
   "source": [
    "import org.apache.spark.ml.classification.{RandomForestClassificationModel, RandomForestClassifier}\n",
    "val rf = new RandomForestClassifier().setNumTrees(3).setLabelCol(\"label\").setFeaturesCol(\"features\")\n",
    "\n",
    "val startTime_rf = System.nanoTime()  \n",
    "\n",
    "val model_rf = rf.fit(train)\n",
    "\n",
    "val time_rf = (System.nanoTime() - startTime_rf) / 1e9\n",
    "\n",
    "println(\"Time elapsed for Random Forest:\")\n",
    "println(time_rf)"
   ]
  },
  {
   "cell_type": "code",
   "execution_count": 43,
   "metadata": {},
   "outputs": [
    {
     "name": "stdout",
     "output_type": "stream",
     "text": [
      "+---+---------+-----------------+---------+--------------------+----------------+---------+----------------+-------------+--------------+-----------------------+------+----------+--------------+--------+--------------------+---------------+-------------+-------------+-----------+------------------+------+--------+-----------------+-----------------+------------------------+-------------+----------------+-----------------+---------------------+---------------+--------------+------------------+-----------------------+--------------------+-----+---------------------+-----------------+---------------------+-------------+--------------+--------------------+-------------+---------------+--------------------+--------------------+--------------------+----------+\n",
      "|Age|Attrition|   BusinessTravel|DailyRate|          Department|DistanceFromHome|Education|  EducationField|EmployeeCount|EmployeeNumber|EnvironmentSatisfaction|Gender|HourlyRate|JobInvolvement|JobLevel|             JobRole|JobSatisfaction|MaritalStatus|MonthlyIncome|MonthlyRate|NumCompaniesWorked|Over18|OverTime|PercentSalaryHike|PerformanceRating|RelationshipSatisfaction|StandardHours|StockOptionLevel|TotalWorkingYears|TrainingTimesLastYear|WorkLifeBalance|YearsAtCompany|YearsInCurrentRole|YearsSinceLastPromotion|YearsWithCurrManager|label|BusinessTravelIndexed|DepartmentIndexed|EducationFieldIndexed|GenderIndexed|JobRoleIndexed|MaritalStatusIndexed|Over18Indexed|OverTimeIndexed|            features|       rawPrediction|         probability|prediction|\n",
      "+---+---------+-----------------+---------+--------------------+----------------+---------+----------------+-------------+--------------+-----------------------+------+----------+--------------+--------+--------------------+---------------+-------------+-------------+-----------+------------------+------+--------+-----------------+-----------------+------------------------+-------------+----------------+-----------------+---------------------+---------------+--------------+------------------+-----------------------+--------------------+-----+---------------------+-----------------+---------------------+-------------+--------------+--------------------+-------------+---------------+--------------------+--------------------+--------------------+----------+\n",
      "| 18|       No|       Non-Travel|     1124|Research & Develo...|               1|        3|   Life Sciences|            1|          1368|                      4|Female|        97|             3|       1|Laboratory Techni...|              4|       Single|         1611|      19305|                 1|     Y|      No|               15|                3|                       3|           80|               0|                0|                    5|              4|             0|                 0|                      0|                   0|  0.0|                  2.0|              0.0|                  0.0|          1.0|           2.0|                 1.0|          0.0|            0.0|[2.0,0.0,0.0,1.0,...|[2.17142857142857...|[0.72380952380952...|       0.0|\n",
      "| 18|      Yes|Travel_Frequently|     1306|               Sales|               5|        3|       Marketing|            1|           614|                      2|  Male|        69|             3|       1|Sales Representative|              2|       Single|         1878|       8059|                 1|     Y|     Yes|               14|                3|                       4|           80|               0|                0|                    3|              3|             0|                 0|                      0|                   0|  1.0|                  1.0|              1.0|                  2.0|          0.0|           6.0|                 1.0|          0.0|            1.0|[1.0,1.0,2.0,0.0,...|[0.10344827586206...|[0.03448275862068...|       1.0|\n",
      "| 19|       No|    Travel_Rarely|      265|Research & Develo...|              25|        3|   Life Sciences|            1|          1269|                      2|Female|        57|             4|       1|  Research Scientist|              4|       Single|         2994|      21221|                 1|     Y|     Yes|               12|                3|                       4|           80|               0|                1|                    2|              3|             1|                 0|                      0|                   1|  0.0|                  0.0|              0.0|                  0.0|          1.0|           1.0|                 1.0|          0.0|            1.0|[0.0,0.0,0.0,1.0,...|[0.96162135278514...|[0.32054045092838...|       1.0|\n",
      "| 19|      Yes|Travel_Frequently|      602|               Sales|               1|        1|Technical Degree|            1|           235|                      3|Female|       100|             1|       1|Sales Representative|              1|       Single|         2325|      20989|                 0|     Y|      No|               21|                4|                       1|           80|               0|                1|                    5|              4|             0|                 0|                      0|                   0|  1.0|                  1.0|              1.0|                  3.0|          1.0|           6.0|                 1.0|          0.0|            0.0|[1.0,1.0,3.0,1.0,...|[1.47619047619047...|[0.49206349206349...|       1.0|\n",
      "| 19|      Yes|    Travel_Rarely|      419|               Sales|              21|        3|           Other|            1|           959|                      4|  Male|        37|             2|       1|Sales Representative|              2|       Single|         2121|       9947|                 1|     Y|     Yes|               13|                3|                       2|           80|               0|                1|                    3|              4|             1|                 0|                      0|                   0|  1.0|                  0.0|              1.0|                  4.0|          0.0|           6.0|                 1.0|          0.0|            1.0|[0.0,1.0,4.0,0.0,...|[0.18037135278514...|[0.06012378426171...|       1.0|\n",
      "| 19|      Yes|    Travel_Rarely|      489|     Human Resources|               2|        2|Technical Degree|            1|           566|                      1|  Male|        52|             2|       1|     Human Resources|              4|       Single|         2564|      18437|                 1|     Y|      No|               12|                3|                       3|           80|               0|                1|                    3|              4|             1|                 0|                      0|                   0|  1.0|                  0.0|              2.0|                  3.0|          0.0|           8.0|                 1.0|          0.0|            0.0|[0.0,2.0,3.0,0.0,...|[1.47619047619047...|[0.49206349206349...|       1.0|\n",
      "| 20|       No|    Travel_Rarely|      805|Research & Develo...|               3|        3|   Life Sciences|            1|          1198|                      1|  Male|        87|             2|       1|Laboratory Techni...|              3|       Single|         3033|      12828|                 1|     Y|      No|               12|                3|                       1|           80|               0|                2|                    2|              2|             2|                 2|                      1|                   2|  0.0|                  0.0|              0.0|                  0.0|          0.0|           2.0|                 1.0|          0.0|            0.0|[0.0,0.0,0.0,0.0,...|[2.25157098732559...|[0.75052366244186...|       0.0|\n",
      "| 20|       No|    Travel_Rarely|     1141|               Sales|               2|        3|         Medical|            1|          1657|                      3|Female|        31|             3|       1|Sales Representative|              3|       Single|         2783|      13251|                 1|     Y|      No|               19|                3|                       1|           80|               0|                2|                    3|              3|             2|                 2|                      2|                   2|  0.0|                  0.0|              1.0|                  1.0|          1.0|           6.0|                 1.0|          0.0|            0.0|[0.0,1.0,1.0,1.0,...|[2.30285516125303...|[0.76761838708434...|       0.0|\n",
      "| 20|      Yes|Travel_Frequently|      769|               Sales|               9|        3|       Marketing|            1|          1077|                      4|Female|        54|             3|       1|Sales Representative|              4|       Single|         2323|      17205|                 1|     Y|     Yes|               14|                3|                       2|           80|               0|                2|                    3|              3|             2|                 2|                      0|                   2|  1.0|                  1.0|              1.0|                  2.0|          1.0|           6.0|                 1.0|          0.0|            1.0|[1.0,1.0,2.0,1.0,...|[0.79575596816976...|[0.26525198938992...|       1.0|\n",
      "| 20|      Yes|Travel_Frequently|      871|Research & Develo...|               6|        3|   Life Sciences|            1|           137|                      4|Female|        66|             2|       1|Laboratory Techni...|              4|       Single|         2926|      19783|                 1|     Y|     Yes|               18|                3|                       2|           80|               0|                1|                    5|              3|             1|                 0|                      1|                   0|  1.0|                  1.0|              0.0|                  0.0|          1.0|           2.0|                 1.0|          0.0|            1.0|[1.0,0.0,0.0,1.0,...|[1.87179487179487...|[0.62393162393162...|       0.0|\n",
      "| 21|       No|       Non-Travel|      895|               Sales|               9|        2|         Medical|            1|           484|                      1|  Male|        39|             3|       1|Sales Representative|              4|       Single|         2610|       2851|                 1|     Y|      No|               24|                4|                       3|           80|               0|                3|                    3|              2|             3|                 2|                      2|                   2|  0.0|                  2.0|              1.0|                  1.0|          0.0|           6.0|                 1.0|          0.0|            0.0|[2.0,1.0,1.0,0.0,...|[1.15277777777777...|[0.38425925925925...|       1.0|\n",
      "| 21|       No|    Travel_Rarely|      996|Research & Develo...|               3|        2|         Medical|            1|           379|                      4|  Male|       100|             2|       1|  Research Scientist|              3|       Single|         3230|      10531|                 1|     Y|      No|               17|                3|                       1|           80|               0|                3|                    4|              4|             3|                 2|                      1|                   0|  0.0|                  0.0|              0.0|                  1.0|          0.0|           1.0|                 1.0|          0.0|            0.0|[0.0,0.0,1.0,0.0,...|[2.08727559437166...|[0.69575853145722...|       0.0|\n",
      "| 21|      Yes|Travel_Frequently|      756|               Sales|               1|        1|Technical Degree|            1|           478|                      1|Female|        99|             2|       1|Sales Representative|              2|       Single|         2174|       9150|                 1|     Y|     Yes|               11|                3|                       3|           80|               0|                3|                    3|              3|             3|                 2|                      1|                   2|  1.0|                  1.0|              1.0|                  3.0|          1.0|           6.0|                 1.0|          0.0|            1.0|[1.0,1.0,3.0,1.0,...|[2.15277777777777...|[0.71759259259259...|       0.0|\n",
      "| 22|       No|    Travel_Rarely|      534|Research & Develo...|              15|        3|         Medical|            1|           144|                      2|Female|        59|             3|       1|Laboratory Techni...|              4|       Single|         2871|      23785|                 1|     Y|      No|               15|                3|                       3|           80|               0|                1|                    5|              3|             0|                 0|                      0|                   0|  0.0|                  0.0|              0.0|                  1.0|          1.0|           2.0|                 1.0|          0.0|            0.0|[0.0,0.0,1.0,1.0,...|[1.64874551971326...|[0.54958183990442...|       0.0|\n",
      "| 22|       No|    Travel_Rarely|      604|Research & Develo...|               6|        1|         Medical|            1|           675|                      1|  Male|        69|             3|       1|  Research Scientist|              3|      Married|         2773|      12145|                 0|     Y|      No|               20|                4|                       4|           80|               0|                3|                    3|              3|             2|                 2|                      2|                   2|  0.0|                  0.0|              0.0|                  1.0|          0.0|           1.0|                 0.0|          0.0|            0.0|[0.0,0.0,1.0,0.0,...|[2.68012820512820...|[0.89337606837606...|       0.0|\n",
      "| 22|       No|    Travel_Rarely|     1230|Research & Develo...|               1|        2|   Life Sciences|            1|           872|                      4|  Male|        33|             2|       2|Manufacturing Dir...|              4|      Married|         4775|      19146|                 6|     Y|      No|               22|                4|                       1|           80|               2|                4|                    2|              1|             2|                 2|                      2|                   2|  0.0|                  0.0|              0.0|                  0.0|          0.0|           3.0|                 0.0|          0.0|            0.0|[0.0,0.0,0.0,0.0,...|[2.93618849458636...|[0.97872949819545...|       0.0|\n",
      "| 22|       No|    Travel_Rarely|     1256|Research & Develo...|              19|        1|         Medical|            1|           217|                      3|  Male|        80|             3|       1|  Research Scientist|              4|      Married|         2323|      11992|                 1|     Y|      No|               24|                4|                       1|           80|               2|                2|                    6|              3|             2|                 2|                      2|                   2|  0.0|                  0.0|              0.0|                  1.0|          0.0|           1.0|                 0.0|          0.0|            0.0|[0.0,0.0,1.0,0.0,...|[2.81506815820037...|[0.93835605273345...|       0.0|\n",
      "| 22|      Yes|Travel_Frequently|     1368|Research & Develo...|               4|        1|Technical Degree|            1|           593|                      3|  Male|        99|             2|       1|Laboratory Techni...|              3|       Single|         3894|       9129|                 5|     Y|      No|               16|                3|                       3|           80|               0|                4|                    3|              3|             2|                 2|                      1|                   2|  1.0|                  1.0|              0.0|                  3.0|          0.0|           2.0|                 1.0|          0.0|            0.0|[1.0,0.0,3.0,0.0,...|[1.65672003881610...|[0.55224001293870...|       0.0|\n",
      "| 22|      Yes|    Travel_Rarely|      391|Research & Develo...|               7|        1|   Life Sciences|            1|          1878|                      4|  Male|        75|             3|       1|  Research Scientist|              2|       Single|         2472|      26092|                 1|     Y|     Yes|               23|                4|                       1|           80|               0|                1|                    2|              3|             1|                 0|                      0|                   0|  1.0|                  0.0|              0.0|                  0.0|          0.0|           1.0|                 1.0|          0.0|            1.0|[0.0,0.0,0.0,0.0,...|[0.18037135278514...|[0.06012378426171...|       1.0|\n",
      "| 23|       No|    Travel_Rarely|      310|Research & Develo...|              10|        1|         Medical|            1|           784|                      1|  Male|        79|             4|       1|  Research Scientist|              3|       Single|         3505|      19630|                 1|     Y|      No|               18|                3|                       4|           80|               0|                2|                    3|              3|             2|                 2|                      0|                   2|  0.0|                  0.0|              0.0|                  1.0|          0.0|           1.0|                 1.0|          0.0|            0.0|[0.0,0.0,1.0,0.0,...|[1.95171290458175...|[0.65057096819391...|       0.0|\n",
      "+---+---------+-----------------+---------+--------------------+----------------+---------+----------------+-------------+--------------+-----------------------+------+----------+--------------+--------+--------------------+---------------+-------------+-------------+-----------+------------------+------+--------+-----------------+-----------------+------------------------+-------------+----------------+-----------------+---------------------+---------------+--------------+------------------+-----------------------+--------------------+-----+---------------------+-----------------+---------------------+-------------+--------------+--------------------+-------------+---------------+--------------------+--------------------+--------------------+----------+\n",
      "only showing top 20 rows\n",
      "\n"
     ]
    }
   ],
   "source": [
    "val predictions_rf=model_rf.transform(test)\n",
    "predictions_rf.show"
   ]
  },
  {
   "cell_type": "code",
   "execution_count": 44,
   "metadata": {
    "collapsed": true
   },
   "outputs": [],
   "source": [
    "val predictionBinary_rf = binarizer.transform(predictions_rf) "
   ]
  },
  {
   "cell_type": "code",
   "execution_count": 45,
   "metadata": {},
   "outputs": [
    {
     "name": "stdout",
     "output_type": "stream",
     "text": [
      "+-----+------+\n",
      "|label|Errors|\n",
      "+-----+------+\n",
      "|  0.0|    12|\n",
      "|  1.0|    56|\n",
      "+-----+------+\n",
      "\n"
     ]
    }
   ],
   "source": [
    "val wrongPredictions_rf = predictionBinary_rf.where(expr(\"label != prediction\"))\n",
    "val countErrors_rf = wrongPredictions_rf.groupBy(\"label\").agg(count(\"prediction\").alias(\"Errors\"))\n",
    "countErrors_rf.show"
   ]
  },
  {
   "cell_type": "code",
   "execution_count": 46,
   "metadata": {},
   "outputs": [
    {
     "name": "stdout",
     "output_type": "stream",
     "text": [
      "+-----+-------+\n",
      "|label|Correct|\n",
      "+-----+-------+\n",
      "|  0.0|    378|\n",
      "|  1.0|     15|\n",
      "+-----+-------+\n",
      "\n"
     ]
    }
   ],
   "source": [
    "val correctPredictions_rf = predictionBinary_rf.where(expr(\"label == prediction\"))\n",
    "val countCorrectPredictions_rf = correctPredictions_rf.groupBy(\"label\").agg(count(\"prediction\").alias(\"Correct\"))\n",
    "countCorrectPredictions_rf.show"
   ]
  },
  {
   "cell_type": "markdown",
   "metadata": {},
   "source": [
    "### Confusion Matrix and Accuracy (Random Forest)"
   ]
  },
  {
   "cell_type": "code",
   "execution_count": 47,
   "metadata": {},
   "outputs": [
    {
     "name": "stdout",
     "output_type": "stream",
     "text": [
      "Confusion matrix for Random Forest:\n",
      "378.0  12.0  \n",
      "56.0   15.0  \n",
      "Accuracy of Random Forest:\n",
      "0.8524945770065075\n"
     ]
    }
   ],
   "source": [
    "val selectMetrics_rf = predictions_rf.select(\"label\",\"prediction\")\n",
    "val rdd_rf = selectMetrics_rf.rdd.map(row => {\n",
    "      val label = row.getDouble(0)\n",
    "      val prediction = row.getDouble(1)\n",
    "      (prediction, label)\n",
    "    })\n",
    "val metrics_rf = new MulticlassMetrics(rdd_rf)\n",
    "println(\"Confusion matrix for Random Forest:\")\n",
    "val confusionMatrix_rf=metrics_rf.confusionMatrix\n",
    "println(confusionMatrix_rf)\n",
    "println(\"Accuracy of Random Forest:\")\n",
    "val accuracy_rf=metrics_rf.accuracy\n",
    "println(accuracy_rf)"
   ]
  },
  {
   "cell_type": "markdown",
   "metadata": {},
   "source": [
    "### Feature importance Using Random Forests"
   ]
  },
  {
   "cell_type": "markdown",
   "metadata": {},
   "source": [
    "The attribute _featureimportances_ tells us which features within the dataset have been given the most importance through the Random Forest algorithm. "
   ]
  },
  {
   "cell_type": "code",
   "execution_count": 48,
   "metadata": {
    "scrolled": true
   },
   "outputs": [
    {
     "name": "stdout",
     "output_type": "stream",
     "text": [
      "(WorkLifeBalance,0.12190322369356148)\n",
      "(EmployeeCount,0.11339566327260553)\n",
      "(EducationFieldIndexed,0.09385288663005897)\n",
      "(MonthlyRate,0.0666084617118382)\n",
      "(JobInvolvement,0.06116503590601826)\n",
      "(JobLevel,0.04840638252144266)\n",
      "(EmployeeNumber,0.046129429495306275)\n",
      "(DistanceFromHome,0.04606877617980757)\n",
      "(Over18Indexed,0.04282709636269108)\n",
      "(YearsSinceLastPromotion,0.040916720611687905)\n",
      "(StockOptionLevel,0.04024648006507451)\n",
      "(JobRoleIndexed,0.037998829287455745)\n",
      "(BusinessTravelIndexed,0.030537865272743447)\n",
      "(MaritalStatusIndexed,0.030183706132486304)\n",
      "(DepartmentIndexed,0.02507923721703621)\n",
      "(TotalWorkingYears,0.02109009868902441)\n",
      "(StandardHours,0.020782919679253182)\n",
      "(GenderIndexed,0.018114620667342138)\n",
      "(JobSatisfaction,0.017321501068724907)\n",
      "(NumCompaniesWorked,0.01728424055545186)\n",
      "(OverTimeIndexed,0.0161307986155934)\n",
      "(EnvironmentSatisfaction,0.014796713285478734)\n",
      "(PerformanceRating,0.009974999032846323)\n",
      "(YearsInCurrentRole,0.008163579455391113)\n",
      "(AttritionIndexed,0.00467692262345907)\n",
      "(DailyRate,0.004369295700473936)\n",
      "(YearsAtCompany,0.0019745162671468788)\n",
      "(DailyRate,0.0)\n",
      "(Education,0.0)\n",
      "(HourlyRate,0.0)\n",
      "(MonthlyIncome,0.0)\n",
      "(PercentSalaryHike,0.0)\n",
      "(RelationshipSatisfaction,0.0)\n",
      "(TrainingTimesLastYear,0.0)\n"
     ]
    }
   ],
   "source": [
    "val importance_rf=model_rf.featureImportances\n",
    "val featuresArray=Array(\"AttritionIndexed\",\"BusinessTravelIndexed\",\"DailyRate\",\"DailyRate\",\"DepartmentIndexed\",\"DistanceFromHome\",\"Education\",\"EducationFieldIndexed\",\"EmployeeCount\",\"EmployeeNumber\",\"EnvironmentSatisfaction\",\"GenderIndexed\",\"HourlyRate\",\"JobInvolvement\",\"JobLevel\",\"JobRoleIndexed\",\"JobSatisfaction\",\"MaritalStatusIndexed\",\"MonthlyIncome\",\"MonthlyRate\",\"NumCompaniesWorked\",\"Over18Indexed\",\"OverTimeIndexed\",\"PercentSalaryHike\",\"PerformanceRating\",\"RelationshipSatisfaction\",\"StandardHours\",\"StockOptionLevel\",\"TotalWorkingYears\",\"TrainingTimesLastYear\",\"WorkLifeBalance\",\"YearsAtCompany\",\"YearsInCurrentRole\",\"YearsSinceLastPromotion\",\"YearsWithCurrManager\")\n",
    "val features_importance_rf = featuresArray.zip(importance_rf.toArray).sortBy(-_._2)\n",
    "for (item <- features_importance_rf)\n",
    "{\n",
    "    println(item)\n",
    "}"
   ]
  },
  {
   "cell_type": "markdown",
   "metadata": {},
   "source": [
    "<img src = \"./Importance_RF.png\">"
   ]
  },
  {
   "cell_type": "markdown",
   "metadata": {},
   "source": [
    "Here, 'Education Field' of the employee was given the most importance followed by the feature 'Work Life Balance'.\n",
    "\n",
    "_Note: The important features in the graphs are representative of one of our code runs._"
   ]
  },
  {
   "cell_type": "markdown",
   "metadata": {},
   "source": [
    "## Model 6 : Linear Support Vector Machine"
   ]
  },
  {
   "cell_type": "code",
   "execution_count": 49,
   "metadata": {},
   "outputs": [
    {
     "name": "stdout",
     "output_type": "stream",
     "text": [
      "Time elapsed for Linear SVM:\n",
      "4.640156044\n"
     ]
    }
   ],
   "source": [
    "import org.apache.spark.ml.classification.LinearSVC\n",
    "\n",
    "val svm = new LinearSVC().setMaxIter(10).setRegParam(0.1).setLabelCol(\"label\").setFeaturesCol(\"features\")\n",
    "\n",
    "val startTime_svm = System.nanoTime()  \n",
    "\n",
    "val model_svm = lr.fit(train)\n",
    "\n",
    "val time_svm = (System.nanoTime() - startTime_svm) / 1e9\n",
    "\n",
    "println(\"Time elapsed for Linear SVM:\")\n",
    "println(time_svm)\n"
   ]
  },
  {
   "cell_type": "code",
   "execution_count": 50,
   "metadata": {
    "scrolled": true
   },
   "outputs": [
    {
     "name": "stdout",
     "output_type": "stream",
     "text": [
      "+---+---------+-----------------+---------+--------------------+----------------+---------+----------------+-------------+--------------+-----------------------+------+----------+--------------+--------+--------------------+---------------+-------------+-------------+-----------+------------------+------+--------+-----------------+-----------------+------------------------+-------------+----------------+-----------------+---------------------+---------------+--------------+------------------+-----------------------+--------------------+-----+---------------------+-----------------+---------------------+-------------+--------------+--------------------+-------------+---------------+--------------------+--------------------+--------------------+----------+\n",
      "|Age|Attrition|   BusinessTravel|DailyRate|          Department|DistanceFromHome|Education|  EducationField|EmployeeCount|EmployeeNumber|EnvironmentSatisfaction|Gender|HourlyRate|JobInvolvement|JobLevel|             JobRole|JobSatisfaction|MaritalStatus|MonthlyIncome|MonthlyRate|NumCompaniesWorked|Over18|OverTime|PercentSalaryHike|PerformanceRating|RelationshipSatisfaction|StandardHours|StockOptionLevel|TotalWorkingYears|TrainingTimesLastYear|WorkLifeBalance|YearsAtCompany|YearsInCurrentRole|YearsSinceLastPromotion|YearsWithCurrManager|label|BusinessTravelIndexed|DepartmentIndexed|EducationFieldIndexed|GenderIndexed|JobRoleIndexed|MaritalStatusIndexed|Over18Indexed|OverTimeIndexed|            features|       rawPrediction|         probability|prediction|\n",
      "+---+---------+-----------------+---------+--------------------+----------------+---------+----------------+-------------+--------------+-----------------------+------+----------+--------------+--------+--------------------+---------------+-------------+-------------+-----------+------------------+------+--------+-----------------+-----------------+------------------------+-------------+----------------+-----------------+---------------------+---------------+--------------+------------------+-----------------------+--------------------+-----+---------------------+-----------------+---------------------+-------------+--------------+--------------------+-------------+---------------+--------------------+--------------------+--------------------+----------+\n",
      "| 18|       No|       Non-Travel|     1124|Research & Develo...|               1|        3|   Life Sciences|            1|          1368|                      4|Female|        97|             3|       1|Laboratory Techni...|              4|       Single|         1611|      19305|                 1|     Y|      No|               15|                3|                       3|           80|               0|                0|                    5|              4|             0|                 0|                      0|                   0|  0.0|                  2.0|              0.0|                  0.0|          1.0|           2.0|                 1.0|          0.0|            0.0|[2.0,0.0,0.0,1.0,...|[4.13141848804626...|[0.98419376775617...|       0.0|\n",
      "| 18|      Yes|Travel_Frequently|     1306|               Sales|               5|        3|       Marketing|            1|           614|                      2|  Male|        69|             3|       1|Sales Representative|              2|       Single|         1878|       8059|                 1|     Y|     Yes|               14|                3|                       4|           80|               0|                0|                    3|              3|             0|                 0|                      0|                   0|  1.0|                  1.0|              1.0|                  2.0|          0.0|           6.0|                 1.0|          0.0|            1.0|[1.0,1.0,2.0,0.0,...|[-0.9501706041941...|[0.27885051338985...|       1.0|\n",
      "| 19|       No|    Travel_Rarely|      265|Research & Develo...|              25|        3|   Life Sciences|            1|          1269|                      2|Female|        57|             4|       1|  Research Scientist|              4|       Single|         2994|      21221|                 1|     Y|     Yes|               12|                3|                       4|           80|               0|                1|                    2|              3|             1|                 0|                      0|                   1|  0.0|                  0.0|              0.0|                  0.0|          1.0|           1.0|                 1.0|          0.0|            1.0|[0.0,0.0,0.0,1.0,...|[-0.2141177134463...|[0.44667414930313...|       1.0|\n",
      "| 19|      Yes|Travel_Frequently|      602|               Sales|               1|        1|Technical Degree|            1|           235|                      3|Female|       100|             1|       1|Sales Representative|              1|       Single|         2325|      20989|                 0|     Y|      No|               21|                4|                       1|           80|               0|                1|                    5|              4|             0|                 0|                      0|                   0|  1.0|                  1.0|              1.0|                  3.0|          1.0|           6.0|                 1.0|          0.0|            0.0|[1.0,1.0,3.0,1.0,...|[0.17002457715352...|[0.54240404087684...|       0.0|\n",
      "| 19|      Yes|    Travel_Rarely|      419|               Sales|              21|        3|           Other|            1|           959|                      4|  Male|        37|             2|       1|Sales Representative|              2|       Single|         2121|       9947|                 1|     Y|     Yes|               13|                3|                       2|           80|               0|                1|                    3|              4|             1|                 0|                      0|                   0|  1.0|                  0.0|              1.0|                  4.0|          0.0|           6.0|                 1.0|          0.0|            1.0|[0.0,1.0,4.0,0.0,...|[-2.0297530267344...|[0.11611426696288...|       1.0|\n",
      "| 19|      Yes|    Travel_Rarely|      489|     Human Resources|               2|        2|Technical Degree|            1|           566|                      1|  Male|        52|             2|       1|     Human Resources|              4|       Single|         2564|      18437|                 1|     Y|      No|               12|                3|                       3|           80|               0|                1|                    3|              4|             1|                 0|                      0|                   0|  1.0|                  0.0|              2.0|                  3.0|          0.0|           8.0|                 1.0|          0.0|            0.0|[0.0,2.0,3.0,0.0,...|[-0.4396910715090...|[0.39181458319021...|       1.0|\n",
      "| 20|       No|    Travel_Rarely|      805|Research & Develo...|               3|        3|   Life Sciences|            1|          1198|                      1|  Male|        87|             2|       1|Laboratory Techni...|              3|       Single|         3033|      12828|                 1|     Y|      No|               12|                3|                       1|           80|               0|                2|                    2|              2|             2|                 2|                      1|                   2|  0.0|                  0.0|              0.0|                  0.0|          0.0|           2.0|                 1.0|          0.0|            0.0|[0.0,0.0,0.0,0.0,...|[-0.1587842896155...|[0.46038712079078...|       1.0|\n",
      "| 20|       No|    Travel_Rarely|     1141|               Sales|               2|        3|         Medical|            1|          1657|                      3|Female|        31|             3|       1|Sales Representative|              3|       Single|         2783|      13251|                 1|     Y|      No|               19|                3|                       1|           80|               0|                2|                    3|              3|             2|                 2|                      2|                   2|  0.0|                  0.0|              1.0|                  1.0|          1.0|           6.0|                 1.0|          0.0|            0.0|[0.0,1.0,1.0,1.0,...|[1.68488620886245...|[0.84355046216043...|       0.0|\n",
      "| 20|      Yes|Travel_Frequently|      769|               Sales|               9|        3|       Marketing|            1|          1077|                      4|Female|        54|             3|       1|Sales Representative|              4|       Single|         2323|      17205|                 1|     Y|     Yes|               14|                3|                       2|           80|               0|                2|                    3|              3|             2|                 2|                      0|                   2|  1.0|                  1.0|              1.0|                  2.0|          1.0|           6.0|                 1.0|          0.0|            1.0|[1.0,1.0,2.0,1.0,...|[0.83743232697661...|[0.69792415896451...|       0.0|\n",
      "| 20|      Yes|Travel_Frequently|      871|Research & Develo...|               6|        3|   Life Sciences|            1|           137|                      4|Female|        66|             2|       1|Laboratory Techni...|              4|       Single|         2926|      19783|                 1|     Y|     Yes|               18|                3|                       2|           80|               0|                1|                    5|              3|             1|                 0|                      1|                   0|  1.0|                  1.0|              0.0|                  0.0|          1.0|           2.0|                 1.0|          0.0|            1.0|[1.0,0.0,0.0,1.0,...|[0.75271519842097...|[0.67977003926476...|       0.0|\n",
      "| 21|       No|       Non-Travel|      895|               Sales|               9|        2|         Medical|            1|           484|                      1|  Male|        39|             3|       1|Sales Representative|              4|       Single|         2610|       2851|                 1|     Y|      No|               24|                4|                       3|           80|               0|                3|                    3|              2|             3|                 2|                      2|                   2|  0.0|                  2.0|              1.0|                  1.0|          0.0|           6.0|                 1.0|          0.0|            0.0|[2.0,1.0,1.0,0.0,...|[0.77863434175336...|[0.68538570871074...|       0.0|\n",
      "| 21|       No|    Travel_Rarely|      996|Research & Develo...|               3|        2|         Medical|            1|           379|                      4|  Male|       100|             2|       1|  Research Scientist|              3|       Single|         3230|      10531|                 1|     Y|      No|               17|                3|                       1|           80|               0|                3|                    4|              4|             3|                 2|                      1|                   0|  0.0|                  0.0|              0.0|                  1.0|          0.0|           1.0|                 1.0|          0.0|            0.0|[0.0,0.0,1.0,0.0,...|[2.06292467164221...|[0.88724708472595...|       0.0|\n",
      "| 21|      Yes|Travel_Frequently|      756|               Sales|               1|        1|Technical Degree|            1|           478|                      1|Female|        99|             2|       1|Sales Representative|              2|       Single|         2174|       9150|                 1|     Y|     Yes|               11|                3|                       3|           80|               0|                3|                    3|              3|             3|                 2|                      1|                   2|  1.0|                  1.0|              1.0|                  3.0|          1.0|           6.0|                 1.0|          0.0|            1.0|[1.0,1.0,3.0,1.0,...|[-1.5942302203767...|[0.16878956667481...|       1.0|\n",
      "| 22|       No|    Travel_Rarely|      534|Research & Develo...|              15|        3|         Medical|            1|           144|                      2|Female|        59|             3|       1|Laboratory Techni...|              4|       Single|         2871|      23785|                 1|     Y|      No|               15|                3|                       3|           80|               0|                1|                    5|              3|             0|                 0|                      0|                   0|  0.0|                  0.0|              0.0|                  1.0|          1.0|           2.0|                 1.0|          0.0|            0.0|[0.0,0.0,1.0,1.0,...|[1.64900403051147...|[0.83875639686477...|       0.0|\n",
      "| 22|       No|    Travel_Rarely|      604|Research & Develo...|               6|        1|         Medical|            1|           675|                      1|  Male|        69|             3|       1|  Research Scientist|              3|      Married|         2773|      12145|                 0|     Y|      No|               20|                4|                       4|           80|               0|                3|                    3|              3|             2|                 2|                      2|                   2|  0.0|                  0.0|              0.0|                  1.0|          0.0|           1.0|                 0.0|          0.0|            0.0|[0.0,0.0,1.0,0.0,...|[1.20437668563486...|[0.76930245634164...|       0.0|\n",
      "| 22|       No|    Travel_Rarely|     1230|Research & Develo...|               1|        2|   Life Sciences|            1|           872|                      4|  Male|        33|             2|       2|Manufacturing Dir...|              4|      Married|         4775|      19146|                 6|     Y|      No|               22|                4|                       1|           80|               2|                4|                    2|              1|             2|                 2|                      2|                   2|  0.0|                  0.0|              0.0|                  0.0|          0.0|           3.0|                 0.0|          0.0|            0.0|[0.0,0.0,0.0,0.0,...|[2.57488790799778...|[0.92922781693824...|       0.0|\n",
      "| 22|       No|    Travel_Rarely|     1256|Research & Develo...|              19|        1|         Medical|            1|           217|                      3|  Male|        80|             3|       1|  Research Scientist|              4|      Married|         2323|      11992|                 1|     Y|      No|               24|                4|                       1|           80|               2|                2|                    6|              3|             2|                 2|                      2|                   2|  0.0|                  0.0|              0.0|                  1.0|          0.0|           1.0|                 0.0|          0.0|            0.0|[0.0,0.0,1.0,0.0,...|[3.04227190189693...|[0.95444770737859...|       0.0|\n",
      "| 22|      Yes|Travel_Frequently|     1368|Research & Develo...|               4|        1|Technical Degree|            1|           593|                      3|  Male|        99|             2|       1|Laboratory Techni...|              3|       Single|         3894|       9129|                 5|     Y|      No|               16|                3|                       3|           80|               0|                4|                    3|              3|             2|                 2|                      1|                   2|  1.0|                  1.0|              0.0|                  3.0|          0.0|           2.0|                 1.0|          0.0|            0.0|[1.0,0.0,3.0,0.0,...|[1.70059951680953...|[0.84561301903798...|       0.0|\n",
      "| 22|      Yes|    Travel_Rarely|      391|Research & Develo...|               7|        1|   Life Sciences|            1|          1878|                      4|  Male|        75|             3|       1|  Research Scientist|              2|       Single|         2472|      26092|                 1|     Y|     Yes|               23|                4|                       1|           80|               0|                1|                    2|              3|             1|                 0|                      0|                   0|  1.0|                  0.0|              0.0|                  0.0|          0.0|           1.0|                 1.0|          0.0|            1.0|[0.0,0.0,0.0,0.0,...|[-0.2807668653325...|[0.43026577884334...|       1.0|\n",
      "| 23|       No|    Travel_Rarely|      310|Research & Develo...|              10|        1|         Medical|            1|           784|                      1|  Male|        79|             4|       1|  Research Scientist|              3|       Single|         3505|      19630|                 1|     Y|      No|               18|                3|                       4|           80|               0|                2|                    3|              3|             2|                 2|                      0|                   2|  0.0|                  0.0|              0.0|                  1.0|          0.0|           1.0|                 1.0|          0.0|            0.0|[0.0,0.0,1.0,0.0,...|[1.79002294164517...|[0.85693008920955...|       0.0|\n",
      "+---+---------+-----------------+---------+--------------------+----------------+---------+----------------+-------------+--------------+-----------------------+------+----------+--------------+--------+--------------------+---------------+-------------+-------------+-----------+------------------+------+--------+-----------------+-----------------+------------------------+-------------+----------------+-----------------+---------------------+---------------+--------------+------------------+-----------------------+--------------------+-----+---------------------+-----------------+---------------------+-------------+--------------+--------------------+-------------+---------------+--------------------+--------------------+--------------------+----------+\n",
      "only showing top 20 rows\n",
      "\n"
     ]
    }
   ],
   "source": [
    "val predictions_svm=model_svm.transform(test)\n",
    "predictions_svm.show"
   ]
  },
  {
   "cell_type": "code",
   "execution_count": 51,
   "metadata": {
    "collapsed": true
   },
   "outputs": [],
   "source": [
    "val predictionBinary_svm = binarizer.transform(predictions_svm) "
   ]
  },
  {
   "cell_type": "code",
   "execution_count": 52,
   "metadata": {},
   "outputs": [
    {
     "name": "stdout",
     "output_type": "stream",
     "text": [
      "+-----+------+\n",
      "|label|Errors|\n",
      "+-----+------+\n",
      "|  0.0|    12|\n",
      "|  1.0|    47|\n",
      "+-----+------+\n",
      "\n"
     ]
    }
   ],
   "source": [
    "val wrongPredictions_svm = predictionBinary_svm.where(expr(\"label != prediction\"))\n",
    "val countErrors_svm = wrongPredictions_svm.groupBy(\"label\").agg(count(\"prediction\").alias(\"Errors\"))\n",
    "countErrors_svm.show"
   ]
  },
  {
   "cell_type": "code",
   "execution_count": 53,
   "metadata": {},
   "outputs": [
    {
     "name": "stdout",
     "output_type": "stream",
     "text": [
      "+-----+-------+\n",
      "|label|Correct|\n",
      "+-----+-------+\n",
      "|  0.0|    378|\n",
      "|  1.0|     24|\n",
      "+-----+-------+\n",
      "\n"
     ]
    }
   ],
   "source": [
    "val correctPredictions_svm = predictionBinary_svm.where(expr(\"label == prediction\"))\n",
    "val countCorrectPredictions_svm = correctPredictions_svm.groupBy(\"label\").agg(count(\"prediction\").alias(\"Correct\"))\n",
    "countCorrectPredictions_svm.show"
   ]
  },
  {
   "cell_type": "markdown",
   "metadata": {},
   "source": [
    "### Confusion Matrix and Accuracy (Linear Support Vector Machine)"
   ]
  },
  {
   "cell_type": "code",
   "execution_count": 54,
   "metadata": {},
   "outputs": [
    {
     "name": "stdout",
     "output_type": "stream",
     "text": [
      "Confusion matrix for Linnear SVM:\n",
      "378.0  12.0  \n",
      "47.0   24.0  \n",
      "Accuracy of Linear SVM:\n",
      "0.8720173535791758\n"
     ]
    }
   ],
   "source": [
    "val selectMetrics_svm = predictions_svm.select(\"label\",\"prediction\")\n",
    "val rdd_svm = selectMetrics_svm.rdd.map(row => {\n",
    "      val label = row.getDouble(0)\n",
    "      val prediction = row.getDouble(1)\n",
    "      (prediction, label)\n",
    "    })\n",
    "val metrics_svm = new MulticlassMetrics(rdd_svm)\n",
    "println(\"Confusion matrix for Linnear SVM:\")\n",
    "val confusionMatrix_svm=metrics_svm.confusionMatrix\n",
    "println(confusionMatrix_svm)\n",
    "println(\"Accuracy of Linear SVM:\")\n",
    "val accuracy_svm=metrics_svm.accuracy\n",
    "println(accuracy_svm)"
   ]
  },
  {
   "cell_type": "markdown",
   "metadata": {},
   "source": [
    "##  4. Parameter Tuning with Cross-Validation Pipelining over a Parameter Grid\n",
    "\n",
    "We also performed cross-validation over a grid of parameters for a few models and evaluated them. We saw an improvement in the accuracy for two of the models, Random Forest and Gradient Boosting (shown below). However, we observed that the accuracy of other models did not improve when cross-validation pipeline model was applied.<br>\n",
    "\n",
    "To perform cross-validation pipelining, firstly we determined the most useful features using feature importance as shown in the above methods. The top features (with feature importances value greater than 0.0) were used as inputs to the Vector Slicer which picks out these most important features. We then used a StandardScaler so that all features are on a similar scale. We set the number of folds to 10 for the cross validation.<br>\n",
    "We selected from a grid of hyperparameters for fine-tuning the model and computed the time elapsed, accuracy and confusion matrices for the two models."
   ]
  },
  {
   "cell_type": "markdown",
   "metadata": {},
   "source": [
    "### 4.1. Random Forest Model with Pipeline"
   ]
  },
  {
   "cell_type": "code",
   "execution_count": 55,
   "metadata": {
    "collapsed": true
   },
   "outputs": [],
   "source": [
    "import org.apache.spark.ml.feature.VectorSlicer\n",
    "import org.apache.spark.ml.Pipeline\n",
    "import org.apache.spark.ml.feature.StandardScaler\n",
    "\n",
    "val slicer = new VectorSlicer().setInputCol(\"features\").setOutputCol(\"slicedfeatures\").setNames(Array(\"EducationFieldIndexed\",\"WorkLifeBalance\",\"JobLevel\",\"EmployeeCount\",\"YearsSinceLastPromotion\",\"JobSatisfaction\",\"MonthlyRate\",\"DailyRate\",\n",
    "\"TotalWorkingYears\",\"JobInvolvement\",\"EmployeeNumber\",\"StandardHours\",\"StockOptionLevel\",\"PerformanceRating\",\"Over18Indexed\",\"EnvironmentSatisfaction\",\n",
    "\"MonthlyIncome\",\"JobRoleIndexed\",\"BusinessTravelIndexed\",\"OverTimeIndexed\",\"DepartmentIndexed\",\"NumCompaniesWorked\",\"DistanceFromHome\",\n",
    "\"GenderIndexed\",\"YearsAtCompany\",\"MaritalStatusIndexed\"))       "
   ]
  },
  {
   "cell_type": "code",
   "execution_count": 56,
   "metadata": {
    "collapsed": true
   },
   "outputs": [],
   "source": [
    "val scaler = new StandardScaler().setInputCol(\"slicedfeatures\").setOutputCol(\"scaledfeatures\").setWithStd(true).setWithMean(true)             \n",
    "\n",
    "val rf_ParamGrid = new RandomForestClassifier().setLabelCol(\"label\").setFeaturesCol(\"scaledfeatures\")\n",
    "\n",
    "val rfPipeline = new Pipeline().setStages(Array(slicer, scaler, rf_ParamGrid))"
   ]
  },
  {
   "cell_type": "code",
   "execution_count": 57,
   "metadata": {},
   "outputs": [
    {
     "name": "stdout",
     "output_type": "stream",
     "text": [
      "Time elapsed using Random Forest with Pipelining:\n",
      "202.294446795\n"
     ]
    }
   ],
   "source": [
    "import org.apache.spark.ml.evaluation.BinaryClassificationEvaluator\n",
    "import org.apache.spark.ml.feature.{HashingTF, Tokenizer}\n",
    "import org.apache.spark.ml.linalg.Vector\n",
    "import org.apache.spark.ml.tuning.{CrossValidator, ParamGridBuilder}\n",
    "import org.apache.spark.sql.Row\n",
    "\n",
    "val paramGrid_rf = new ParamGridBuilder().addGrid(rf_ParamGrid.maxBins, Array(25, 28, 31)).addGrid(rf_ParamGrid.maxDepth, Array(4, 6, 8)).addGrid(rf_ParamGrid.impurity, Array(\"entropy\", \"gini\")).build()               \n",
    "\n",
    "val evaluator_rf = new BinaryClassificationEvaluator().setLabelCol(\"label\").setMetricName(\"areaUnderPR\")\n",
    "\n",
    "val cv_rf = new CrossValidator().setEstimator(rfPipeline).setEvaluator(evaluator_rf).setEstimatorParamMaps(paramGrid_rf).setNumFolds(10)\n",
    "\n",
    "val startTime_rf = System.nanoTime()  \n",
    "\n",
    "val crossValidatorModel_rf = cv_rf.fit(train)\n",
    "\n",
    "val rfPipeTime = (System.nanoTime() - startTime_rf) / 1e9\n",
    "\n",
    "println(\"Time elapsed using Random Forest with Pipelining:\")\n",
    "println(rfPipeTime)"
   ]
  },
  {
   "cell_type": "code",
   "execution_count": 58,
   "metadata": {},
   "outputs": [
    {
     "data": {
      "text/plain": [
       "estimator: estimator for selection (current: pipeline_69abe024ae18)\n",
       "estimatorParamMaps: param maps for the estimator (current: [Lorg.apache.spark.ml.param.ParamMap;@68a89377)\n",
       "evaluator: evaluator used to select hyper-parameters that maximize the validated metric (current: binEval_f205501f4b09)\n",
       "numFolds: number of folds for cross validation (>= 2) (default: 3, current: 10)\n",
       "seed: random seed (default: -1191137437)"
      ]
     },
     "execution_count": 58,
     "metadata": {},
     "output_type": "execute_result"
    }
   ],
   "source": [
    "val predictions_rf_ParamGrid = crossValidatorModel_rf.transform(test)\n",
    "crossValidatorModel_rf.explainParams()"
   ]
  },
  {
   "cell_type": "code",
   "execution_count": 59,
   "metadata": {},
   "outputs": [
    {
     "name": "stdout",
     "output_type": "stream",
     "text": [
      "+-----+------+\n",
      "|label|Errors|\n",
      "+-----+------+\n",
      "|  0.0|     6|\n",
      "|  1.0|    57|\n",
      "+-----+------+\n",
      "\n",
      "+-----+-------+\n",
      "|label|Correct|\n",
      "+-----+-------+\n",
      "|  0.0|    384|\n",
      "|  1.0|     14|\n",
      "+-----+-------+\n",
      "\n"
     ]
    }
   ],
   "source": [
    "val predictionBinary_rf_ParamGrid = binarizer.transform(predictions_rf_ParamGrid) \n",
    "\n",
    "val wrongPredictions_rf_ParamGrid = predictionBinary_rf_ParamGrid.where(expr(\"label != prediction\"))\n",
    "val countErrors_rf_ParamGrid = wrongPredictions_rf_ParamGrid.groupBy(\"label\").agg(count(\"prediction\").alias(\"Errors\"))\n",
    "countErrors_rf_ParamGrid.show\n",
    "\n",
    "val correctPredictions_rf_ParamGrid = predictionBinary_rf_ParamGrid.where(expr(\"label == prediction\"))\n",
    "val countCorrectPredictions_rf_ParamGrid = correctPredictions_rf_ParamGrid.groupBy(\"label\").agg(count(\"prediction\").alias(\"Correct\"))\n",
    "countCorrectPredictions_rf_ParamGrid.show"
   ]
  },
  {
   "cell_type": "markdown",
   "metadata": {},
   "source": [
    "### Confusion Matrix and Accuracy (Random Forest Pipeline)"
   ]
  },
  {
   "cell_type": "code",
   "execution_count": 60,
   "metadata": {},
   "outputs": [
    {
     "name": "stdout",
     "output_type": "stream",
     "text": [
      "Confusion matrix for Random Forests using Pipelining:\n",
      "384.0  6.0   \n",
      "57.0   14.0  \n",
      "Accuracy of Random Forests using Pipelining:\n",
      "0.8633405639913232\n"
     ]
    }
   ],
   "source": [
    "val selectMetrics_rf_ParamGrid = predictions_rf_ParamGrid.select(\"label\",\"prediction\")\n",
    "val rdd_rf_ParamGrid = selectMetrics_rf_ParamGrid.rdd.map(row => {\n",
    "      val label = row.getDouble(0)\n",
    "      val prediction = row.getDouble(1)\n",
    "      (prediction, label)\n",
    "    })\n",
    "val metrics_rf_ParamGrid = new MulticlassMetrics(rdd_rf_ParamGrid)\n",
    "println(\"Confusion matrix for Random Forests using Pipelining:\")\n",
    "val confusionMatrix_rf_ParamGrid=metrics_rf_ParamGrid.confusionMatrix\n",
    "println(confusionMatrix_rf_ParamGrid)\n",
    "println(\"Accuracy of Random Forests using Pipelining:\")\n",
    "val accuracy_rf_ParamGrid=metrics_rf_ParamGrid.accuracy\n",
    "println(accuracy_rf_ParamGrid)"
   ]
  },
  {
   "cell_type": "markdown",
   "metadata": {},
   "source": [
    "### 4.2. Gradient Boosting Classifier Model with pipeline"
   ]
  },
  {
   "cell_type": "code",
   "execution_count": 61,
   "metadata": {
    "collapsed": true
   },
   "outputs": [],
   "source": [
    "import org.apache.spark.ml.feature.VectorSlicer\n",
    "import org.apache.spark.ml.Pipeline\n",
    "import org.apache.spark.ml.feature.StandardScaler\n",
    "\n",
    "val slicer = new VectorSlicer().setInputCol(\"features\").setOutputCol(\"slicedfeatures\").setNames(Array(\"BusinessTravelIndexed\",\"Age\",\"DailyRate\",\"DepartmentIndexed\",\"DistanceFromHome\",\"Education\",\"EmployeeCount\",\n",
    "\"EmployeeNumber\",\"EnvironmentSatisfaction\",\"GenderIndexed\",\"HourlyRate\",\"JobLevel\",\"JobRoleIndexed\",\"JobSatisfaction\",\"MaritalStatusIndexed\",\n",
    "\"MonthlyIncome\",\"MonthlyRate\",\"NumCompaniesWorked\",\"Over18Indexed\",\"OverTimeIndexed\",\"PercentSalaryHike\",\"RelationshipSatisfaction\",\n",
    "\"StockOptionLevel\",\"TotalWorkingYears\",\"TrainingTimesLastYear\",\"WorkLifeBalance\",\"YearsAtCompany\",\"YearsInCurrentRole\",\"YearsSinceLastPromotion\",\n",
    "\"YearsWithCurrManager\"))\n"
   ]
  },
  {
   "cell_type": "code",
   "execution_count": 62,
   "metadata": {
    "collapsed": true
   },
   "outputs": [],
   "source": [
    "val scaler = new StandardScaler().setInputCol(\"slicedfeatures\").setOutputCol(\"scaledfeatures\").setWithStd(true).setWithMean(true)\n",
    "\n",
    "val gbt_ParamGrid = new GBTClassifier().setLabelCol(\"label\").setFeaturesCol(\"scaledfeatures\")\n",
    "\n",
    "val gbtPipeline = new Pipeline().setStages(Array(slicer, scaler, gbt_ParamGrid))"
   ]
  },
  {
   "cell_type": "code",
   "execution_count": 63,
   "metadata": {},
   "outputs": [
    {
     "name": "stdout",
     "output_type": "stream",
     "text": [
      "Time elapsed for Gradient Boosting with pipelining:\n",
      "127.333577878\n"
     ]
    }
   ],
   "source": [
    "import org.apache.spark.ml.evaluation.BinaryClassificationEvaluator\n",
    "import org.apache.spark.ml.feature.{HashingTF, Tokenizer}\n",
    "import org.apache.spark.ml.linalg.Vector\n",
    "import org.apache.spark.ml.tuning.{CrossValidator, ParamGridBuilder}\n",
    "import org.apache.spark.sql.Row\n",
    "\n",
    "val paramGrid_gbt = new ParamGridBuilder().build()               \n",
    "\n",
    "val evaluator_gbt = new BinaryClassificationEvaluator().setLabelCol(\"label\").setMetricName(\"areaUnderPR\")\n",
    "\n",
    "val cv_gbt = new CrossValidator().setEstimator(gbtPipeline).setEvaluator(evaluator_gbt).setEstimatorParamMaps(paramGrid_gbt).setNumFolds(10)\n",
    "\n",
    "val startTime_gbt = System.nanoTime()  \n",
    "\n",
    "val crossValidatorModel_gbt = cv_gbt.fit(train)\n",
    "\n",
    "val gbtPipeTime = (System.nanoTime() - startTime_gbt) / 1e9\n",
    "\n",
    "println(\"Time elapsed for Gradient Boosting with pipelining:\")\n",
    "println(gbtPipeTime)\n"
   ]
  },
  {
   "cell_type": "code",
   "execution_count": 64,
   "metadata": {},
   "outputs": [
    {
     "data": {
      "text/plain": [
       "estimator: estimator for selection (current: pipeline_9ceecef1562a)\n",
       "estimatorParamMaps: param maps for the estimator (current: [Lorg.apache.spark.ml.param.ParamMap;@36c431a2)\n",
       "evaluator: evaluator used to select hyper-parameters that maximize the validated metric (current: binEval_716fafcd4a70)\n",
       "numFolds: number of folds for cross validation (>= 2) (default: 3, current: 10)\n",
       "seed: random seed (default: -1191137437)"
      ]
     },
     "execution_count": 64,
     "metadata": {},
     "output_type": "execute_result"
    }
   ],
   "source": [
    "val predictions_gbt_ParamGrid = crossValidatorModel_gbt.transform(test)\n",
    "crossValidatorModel_gbt.explainParams()"
   ]
  },
  {
   "cell_type": "code",
   "execution_count": 65,
   "metadata": {},
   "outputs": [
    {
     "name": "stdout",
     "output_type": "stream",
     "text": [
      "+-----+------+\n",
      "|label|Errors|\n",
      "+-----+------+\n",
      "|  0.0|    25|\n",
      "|  1.0|    46|\n",
      "+-----+------+\n",
      "\n",
      "+-----+-------+\n",
      "|label|Correct|\n",
      "+-----+-------+\n",
      "|  0.0|    365|\n",
      "|  1.0|     25|\n",
      "+-----+-------+\n",
      "\n"
     ]
    }
   ],
   "source": [
    "val predictionBinary_gbt_ParamGrid = binarizer.transform(predictions_gbt_ParamGrid) \n",
    "\n",
    "val wrongPredictions_gbt_ParamGrid = predictionBinary_gbt_ParamGrid.where(expr(\"label != prediction\"))\n",
    "val countErrors_gbt_ParamGrid = wrongPredictions_gbt_ParamGrid.groupBy(\"label\").agg(count(\"prediction\").alias(\"Errors\"))\n",
    "countErrors_gbt_ParamGrid.show\n",
    "\n",
    "val correctPredictions_gbt_ParamGrid = predictionBinary_gbt_ParamGrid.where(expr(\"label == prediction\"))\n",
    "val countCorrectPredictions_gbt_ParamGrid = correctPredictions_gbt_ParamGrid.groupBy(\"label\").agg(count(\"prediction\").alias(\"Correct\"))\n",
    "countCorrectPredictions_gbt_ParamGrid.show\n"
   ]
  },
  {
   "cell_type": "markdown",
   "metadata": {},
   "source": [
    "### Confusion Matrix and Accuracy (Gradient Boosting Pipeline)"
   ]
  },
  {
   "cell_type": "code",
   "execution_count": 66,
   "metadata": {},
   "outputs": [
    {
     "name": "stdout",
     "output_type": "stream",
     "text": [
      "Confusion matrix for Gradient Boosting with pipelining:\n",
      "365.0  25.0  \n",
      "46.0   25.0  \n",
      "Accuracy of Gradient Boosting with pipelining:\n",
      "0.8459869848156182\n"
     ]
    }
   ],
   "source": [
    "val selectMetrics_gbt_ParamGrid = predictions_gbt_ParamGrid.select(\"label\",\"prediction\")\n",
    "val rdd_gbt_ParamGrid = selectMetrics_gbt_ParamGrid.rdd.map(row => {\n",
    "      val label = row.getDouble(0)\n",
    "      val prediction = row.getDouble(1)\n",
    "      (prediction, label)\n",
    "    })\n",
    "val metrics_gbt_ParamGrid = new MulticlassMetrics(rdd_gbt_ParamGrid)\n",
    "println(\"Confusion matrix for Gradient Boosting with pipelining:\")\n",
    "val confusionMatrix_gbt_ParamGrid=metrics_gbt_ParamGrid.confusionMatrix\n",
    "println(confusionMatrix_gbt_ParamGrid)\n",
    "println(\"Accuracy of Gradient Boosting with pipelining:\")\n",
    "val accuracy_gbt_ParamGrid=metrics_gbt_ParamGrid.accuracy\n",
    "println(accuracy_gbt_ParamGrid)"
   ]
  },
  {
   "cell_type": "markdown",
   "metadata": {},
   "source": [
    "## 5. Evaluation of Models"
   ]
  },
  {
   "cell_type": "markdown",
   "metadata": {},
   "source": [
    "### 5.1. Comparison of Models by Classification Accuracy"
   ]
  },
  {
   "cell_type": "code",
   "execution_count": 67,
   "metadata": {},
   "outputs": [
    {
     "name": "stdout",
     "output_type": "stream",
     "text": [
      "(NaiveBayes,0.527114967462039)\n",
      "(GradientBoost,0.8459869848156182)\n",
      "(LogisticRegression,0.8720173535791758)\n",
      "(DecisionTree,0.01735357917570499)\n",
      "(RandomForest,0.8633405639913232)\n",
      "(LinearSupportVector,0.8720173535791758)\n"
     ]
    }
   ],
   "source": [
    "import scala.collection.immutable.ListMap\n",
    "var allModelsAccuracies = scala.collection.mutable.Map[String, Double]()\n",
    "allModelsAccuracies+=(\"DecisionTree\"->accuracy_dt)\n",
    "allModelsAccuracies+=(\"NaiveBayes\"->accuracy_nb)\n",
    "allModelsAccuracies+=(\"GradientBoost\"->accuracy_gbt_ParamGrid)\n",
    "allModelsAccuracies+=(\"LogisticRegression\"->accuracy_lr)\n",
    "allModelsAccuracies+=(\"LinearSupportVector\"->accuracy_svm)\n",
    "allModelsAccuracies+=(\"RandomForest\"->accuracy_rf_ParamGrid)\n",
    "\n",
    "for (item<-allModelsAccuracies)\n",
    "    {\n",
    "        println(item)\n",
    "    }"
   ]
  },
  {
   "cell_type": "markdown",
   "metadata": {},
   "source": [
    "<img src = \"./Accuracy.png\">"
   ]
  },
  {
   "cell_type": "markdown",
   "metadata": {},
   "source": [
    "__Analysis: Above graph shows the performance of all classifiers used, based on their accuracies. Logistic Regression and Linear Support Vector models are most accurate in predicting which employee is likely to leave the company while Decision Tree model turns out to be least accurate. <br><br>\n",
    "One of the Python codes on Kaggle (https://www.kaggle.com/arthurtok/employee-attrition-via-rf-gbm), which used the same dataset, used the models Gradient Boosting Classifier and Random Forests. The performance of these two models in our case is on similar scales as theirs.__<br><br>\n",
    "_Note: The scores in the graphs are representative of one of our code runs._"
   ]
  },
  {
   "cell_type": "markdown",
   "metadata": {},
   "source": [
    "### 5.2. Comparison of Models by Execution Time "
   ]
  },
  {
   "cell_type": "code",
   "execution_count": 68,
   "metadata": {},
   "outputs": [
    {
     "name": "stdout",
     "output_type": "stream",
     "text": [
      "(NaiveBayes,1.94149036)\n",
      "(GradientBoost,6.941712915)\n",
      "(LogisticRegression,4.851917167)\n",
      "(DecisionTree,2.662944262)\n",
      "(RandomForest,2.094999318)\n",
      "(LinearSupportVector,4.640156044)\n"
     ]
    }
   ],
   "source": [
    "import scala.collection.immutable.ListMap\n",
    "var allModelsTimes = scala.collection.mutable.Map[String, Double]()\n",
    "allModelsTimes+=(\"DecisionTree\"->time_dt)\n",
    "allModelsTimes+=(\"NaiveBayes\"->time_nb)\n",
    "allModelsTimes+=(\"GradientBoost\"->time_gbt)\n",
    "allModelsTimes+=(\"LogisticRegression\"->time_lr)\n",
    "allModelsTimes+=(\"LinearSupportVector\"->time_svm)\n",
    "allModelsTimes+=(\"RandomForest\"->time_rf)\n",
    "\n",
    "for (item<-allModelsTimes)\n",
    "    {\n",
    "        println(item)\n",
    "    }"
   ]
  },
  {
   "cell_type": "markdown",
   "metadata": {},
   "source": [
    "<img src = \"./Time.png\">"
   ]
  },
  {
   "cell_type": "markdown",
   "metadata": {},
   "source": [
    "__Analysis: The graph compares the execution (training + testing) times of each of the models. Random Forest model is the quickest to make predictions while Gradient Boosting Classifier takes the maximum time. Logistic Regression and Linear Support Vector models which had the highest accuracies, take medium to high execution times.__<br><br>\n",
    "_Note: The times in the graphs are representative of one of our code runs._"
   ]
  },
  {
   "cell_type": "markdown",
   "metadata": {},
   "source": [
    "__Result: Based on the above comparisons we can say that the trade-off between accuracy score and execution time for Random Forest model is the best. Hence, we can say that Random Forest is the most suitable model fore predicting whether an employee is likely to leave the company or not.__"
   ]
  }
 ],
 "metadata": {
  "kernelspec": {
   "display_name": "Apache Toree - Scala",
   "language": "scala",
   "name": "apache_toree_scala"
  },
  "language_info": {
   "file_extension": ".scala",
   "name": "scala",
   "version": "2.11.8"
  }
 },
 "nbformat": 4,
 "nbformat_minor": 2
}
